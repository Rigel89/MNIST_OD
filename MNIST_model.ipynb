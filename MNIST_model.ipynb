{
 "cells": [
  {
   "cell_type": "markdown",
   "id": "767851fe-662b-4280-90cf-749a30073259",
   "metadata": {},
   "source": [
    "# <b> 0. IMPORTING LIBRARIES"
   ]
  },
  {
   "cell_type": "code",
   "execution_count": 1,
   "id": "7d6ea665-b5cb-4dcb-b98f-9610785b5d55",
   "metadata": {
    "tags": []
   },
   "outputs": [],
   "source": [
    "import numpy as np\n",
    "import os\n",
    "from matplotlib import pyplot as plt\n",
    "import tensorflow as tf\n",
    "# from tqdm import tqdm\n",
    "from tensorflow.keras.models import Model\n",
    "from tensorflow.keras.layers import Input, Dense, InputLayer, Dropout, Flatten, Reshape\n",
    "from tensorflow.keras.layers import Conv2D, MaxPooling2D, GlobalMaxPooling2D\n",
    "from tensorflow.keras.regularizers import l2\n",
    "import xml.etree.ElementTree as ET\n"
   ]
  },
  {
   "cell_type": "code",
   "execution_count": 2,
   "id": "93db11b0-4b34-4959-82a6-98d3ba501564",
   "metadata": {},
   "outputs": [],
   "source": [
    "%config Completer.use_jedi = False"
   ]
  },
  {
   "cell_type": "markdown",
   "id": "d2b1d6f1-607c-4f63-992a-a9d79feeb6e0",
   "metadata": {},
   "source": [
    "# <b> 1. CREATING PATHS TO DIRECTORIES"
   ]
  },
  {
   "cell_type": "code",
   "execution_count": 3,
   "id": "1ff0a744-3903-43ef-a883-249b818ea19c",
   "metadata": {
    "tags": []
   },
   "outputs": [],
   "source": [
    "#files path in a dictionary\n",
    "paths = dict()\n",
    "# Linux pc\n",
    "paths['main'] = '/home/javi/Desktop/Python/MNIST_OD'\n",
    "paths['dataset'] = os.path.join(paths['main'], 'MNIST_dataset')\n",
    "paths['train_data'] = os.path.join(paths['dataset'], 'train')\n",
    "paths['test_data'] = os.path.join(paths['dataset'], 'test')\n",
    "# Windows pc\n",
    "# paths['main'] = os.path.normcase('D:\\Javi\\Python\\MNIST_OD')#.replace('\\\\','/'))\n",
    "# paths['dataset'] = os.path.join(paths['main'], 'MNIST_dataset'))\n",
    "# paths['train_data'] = os.path.join(paths['dataset'], 'train')\n",
    "# paths['test_data'] = os.path.join(paths['dataset'], 'test')\n",
    "# paths['test_img'] = os.path.join(paths['test_data'], 'test')"
   ]
  },
  {
   "cell_type": "markdown",
   "id": "03dae5cc-a064-452a-85c3-43ab1b392b79",
   "metadata": {},
   "source": [
    "# <b> 2. CREATING THE YOLO LIKE MODEL"
   ]
  },
  {
   "cell_type": "markdown",
   "id": "9666ad74-842b-4fe5-b2b6-eacb9733cfee",
   "metadata": {},
   "source": [
    "## 2.1 Neuronal network model"
   ]
  },
  {
   "cell_type": "code",
   "execution_count": null,
   "id": "b36d2cb8-717d-439a-a1bc-5d3738d903e3",
   "metadata": {
    "tags": []
   },
   "outputs": [],
   "source": [
    "class Yolo_Reshape(tf.keras.layers.Layer):\n",
    "    def __init__(self, grid_size=7, no_bnb=2, no_class=10):\n",
    "        super(Yolo_Reshape, self).__init__()\n",
    "        self.grid_size = grid_size\n",
    "        self.no_of_bnb = no_bnb\n",
    "        self.no_class = no_class\n",
    "\n",
    "    # def get_config(self):\n",
    "    #     config = super().get_config().copy()\n",
    "    #     config.update({\n",
    "    #         'target_shape': self.target_shape\n",
    "    #     })\n",
    "    #     return config\n",
    "\n",
    "    def call(self, inputs):\n",
    "        # grids 7x7\n",
    "        S = [self.grid_size, self.grid_size]\n",
    "        # classes\n",
    "        C = self.no_class\n",
    "        # no of bounding boxes per grid\n",
    "        B = self.no_of_bnb\n",
    "\n",
    "        idx1 = S[0] * S[1] * C\n",
    "        idx2 = idx1 + S[0] * S[1] * B\n",
    "\n",
    "        # class probabilities\n",
    "        class_probs = tf.reshape(inputs[:, :idx1], (tf.shape(inputs)[0],) + tuple([S[0], S[1], C]))\n",
    "        class_probs = tf.nn.softmax(class_probs)\n",
    "\n",
    "        #confidence\n",
    "        confs = tf.reshape(inputs[:, idx1:idx2], (tf.shape(inputs)[0],) + tuple([S[0], S[1], B]))\n",
    "        confs = tf.math.sigmoid(confs)\n",
    "\n",
    "        # boxes\n",
    "        boxes = tf.reshape(inputs[:, idx2:], (tf.shape(inputs)[0],) + tuple([S[0], S[1], B * 4]))\n",
    "        boxes = tf.math.sigmoid(boxes)\n",
    "\n",
    "        outputs = tf.concat([class_probs, confs, boxes], axis=3)\n",
    "        return outputs"
   ]
  },
  {
   "cell_type": "code",
   "execution_count": null,
   "id": "c3124a55-c91d-46b6-921c-8793c066104e",
   "metadata": {
    "tags": []
   },
   "outputs": [],
   "source": [
    "class MNIST_YOLO(tf.keras.Model):\n",
    "    def __init__(self, inpshape, bocks_info,\n",
    "                 grid_size=7, no_of_bnb=2, no_class=10):\n",
    "        super().__init__()\n",
    "        self.nConvs = 0\n",
    "        self.nBlocks = 0\n",
    "        self.grid_size = grid_size\n",
    "        self.no_of_bnb = no_of_bnb\n",
    "        self.no_class = no_class\n",
    "        self.bocks_info = bocks_info\n",
    "        self.inpshape = inpshape\n",
    "        self.layersList = list()\n",
    "        for key, val in self.bocks_info.items():\n",
    "            self.block_CN_gen(val, self.layersList)\n",
    "        self.flatten = Flatten()\n",
    "        self.dense_1 = Dense((self.no_class+self.no_of_bnb*5)*self.grid_size**2/4)\n",
    "        self.drop =  Dropout(0.3)\n",
    "        self.dense_2 = Dense((self.no_class+self.no_of_bnb*5)*self.grid_size**2, activation='sigmoid')\n",
    "        # self.reshape = Reshape((self.grid_size, self.grid_size, self.no_class+self.no_of_bnb*5))\n",
    "        self.final_conv = Conv2D(256, kernel_size=3, strides=1, activation='relu', name='conv2D_last')\n",
    "        self.reshape = Yolo_Reshape(self.grid_size, self.no_of_bnb, self.no_class)\n",
    "\n",
    "    def block_CN_gen(self, dictionary_info, layers_list):\n",
    "        '''generate a block of convolutions\n",
    "        dictionary_info : dict of list {kernel_list, stride_list, padding}'''\n",
    "        for key, (filt, ker, stride, pad, act) in dictionary_info.items():\n",
    "            layer_name = 'block{}_conv{}'.format(self.nBlocks, self.nConvs)\n",
    "            layers_list.append(Conv2D(filt, kernel_size=ker, strides=stride, padding=pad,\n",
    "                               activation=act, name=layer_name))\n",
    "            self.nConvs += 1\n",
    "        layers_list.append(MaxPooling2D(pool_size=(2, 2), strides=(2, 2), padding='same',\n",
    "                           name='Mpooling_block{}'.format(self.nBlocks)))\n",
    "        self.nBlocks += 1\n",
    "\n",
    "    def call(self, inputs):\n",
    "        # inputs = self.InputLayer\n",
    "        # x = self.A(inputs)#Input(shape=self.intshape)\n",
    "        x = inputs\n",
    "        for layer in self.layersList:\n",
    "            x = layer(x)\n",
    "        x = self.final_conv(x)\n",
    "        x = self.flatten(x)\n",
    "        x = self.dense_1(x)\n",
    "        x = self.drop(x)\n",
    "        x = self.dense_2(x)\n",
    "        x = self.reshape(x)\n",
    "        return x#Model(inputs,x)\n",
    "    def summary(self):\n",
    "        inp = Input(shape=self.inpshape, name=\"input_layer\")\n",
    "        model = Model(inputs=[inp], outputs=self.call(inp))\n",
    "        model.summary()\n",
    "        del inp, model\n",
    "        # return model.summary()\n",
    "            \n",
    "blocks_dict = {'block1':{'b1':[32, (7,7), (1,1), 'same', 'relu']},\n",
    "               'block2':{'b1':[64, (3,3), (1,1), 'same', 'relu']},\n",
    "               'block3':{'b1':[64, (1,1), (1,1), 'same', 'relu'], 'b2':[128, (3,3), (1,1), 'same', 'relu'],\n",
    "                         'b3':[128, (1,1), (1,1), 'same', 'relu'], 'b4':[256, (3,3), (1,1), 'same', 'relu']},\n",
    "               'block4':{'b1':[256, (1,1), (1,1), 'same', 'relu'], 'b2':[256, (3,3), (1,1), 'same', 'relu']}}\n",
    "model = MNIST_YOLO(inpshape = (144,144,1),bocks_info=blocks_dict, grid_size=7, no_of_bnb=2, no_class=10)\n",
    "\n",
    "print(model(tf.zeros([5,144,144,1])).shape)\n",
    "model.summary()\n",
    "print(model.predict(tf.zeros([5,144,144,1])).shape)\n",
    "\n",
    "# inputs = Input(shape=(140,140,1))\n",
    "# x = model(inputs)\n",
    "# # print(x.numpy())\n",
    "# output = Yolo_Reshape(grid_size=7, no_bnb=2, no_class=10)(x)\n",
    "\n",
    "# mymodel = Model(inputs, output)\n",
    "# mymodel.summary()\n",
    "# class MyModel(tf.keras.Model):\n",
    "\n",
    "#   def __init__(self):\n",
    "#     super().__init__()\n",
    "#     self.dense1 = tf.keras.layers.Dense(4, activation=tf.nn.relu)\n",
    "#     self.dense2 = tf.keras.layers.Dense(5, activation=tf.nn.softmax)\n",
    "\n",
    "#   def call(self, inputs):\n",
    "#     x = self.dense1(inputs)\n",
    "#     return self.dense2(x)\n",
    "\n",
    "# model = MyModel()"
   ]
  },
  {
   "cell_type": "code",
   "execution_count": null,
   "id": "c49946de-1a6a-47e1-86c3-b7f59fe6efc7",
   "metadata": {
    "tags": []
   },
   "outputs": [],
   "source": [
    "# class ResnetIdentityBlock(tf.keras.Model):\n",
    "#   def __init__(self, kernel_size, filters):\n",
    "#     super(ResnetIdentityBlock, self).__init__(name='')\n",
    "#     filters1, filters2, filters3 = filters\n",
    "\n",
    "#     self.conv2a = tf.keras.layers.Conv2D(filters1, (1, 1))\n",
    "#     self.bn2a = tf.keras.layers.BatchNormalization()\n",
    "\n",
    "#     self.conv2b = tf.keras.layers.Conv2D(filters2, kernel_size, padding='same')\n",
    "#     self.bn2b = tf.keras.layers.BatchNormalization()\n",
    "\n",
    "#     self.conv2c = tf.keras.layers.Conv2D(filters3, (1, 1))\n",
    "#     self.bn2c = tf.keras.layers.BatchNormalization()\n",
    "#     self.A = Dense(32)\n",
    "#     self.flat = Flatten()\n",
    "\n",
    "#   def call(self, input_tensor, training=False):\n",
    "#     x = self.conv2a(input_tensor)\n",
    "#     x = self.bn2a(x, training=training)\n",
    "#     x = tf.nn.relu(x)\n",
    "\n",
    "#     x = self.conv2b(x)\n",
    "#     x = self.bn2b(x, training=training)\n",
    "#     x = tf.nn.relu(x)\n",
    "\n",
    "#     x = self.conv2c(x)\n",
    "#     x = self.bn2c(x, training=training)\n",
    "\n",
    "#     # x += input_tensor\n",
    "#     x = (x)\n",
    "#     x = self.A(x)\n",
    "#     return tf.nn.relu(x)\n",
    "\n",
    "\n",
    "# block = ResnetIdentityBlock(1, [1, 2, 3])\n",
    "# _ = block(tf.zeros([1, 2, 3, 3]))\n",
    "# block.summary()\n",
    "# block.predict(tf.zeros([1,140,140,3]))"
   ]
  },
  {
   "cell_type": "markdown",
   "id": "0ccf0c48-ba37-4573-95ab-3964d133a25e",
   "metadata": {},
   "source": [
    "## 2.2 Creating a custom loss function"
   ]
  },
  {
   "cell_type": "code",
   "execution_count": 143,
   "id": "aa806093-09a7-44e9-9203-37b7dd1ac91f",
   "metadata": {},
   "outputs": [
    {
     "data": {
      "text/plain": [
       "<tf.Tensor: shape=(1, 7, 7), dtype=int64, numpy=\n",
       "array([[[  105,   330,   555,   780,  1005,  1230,  1455],\n",
       "        [ 1680,  1905,  2130,  2355,  2580,  2805,  3030],\n",
       "        [ 3255,  3480,  3705,  3930,  4155,  4380,  4605],\n",
       "        [ 4830,  5055,  5280,  5505,  5730,  5955,  6180],\n",
       "        [ 6405,  6630,  6855,  7080,  7305,  7530,  7755],\n",
       "        [ 7980,  8205,  8430,  8655,  8880,  9105,  9330],\n",
       "        [ 9555,  9780, 10005, 10230, 10455, 10680, 10905]]])>"
      ]
     },
     "execution_count": 143,
     "metadata": {},
     "output_type": "execute_result"
    }
   ],
   "source": [
    "tensorA = np.arange(1*7*7*15).reshape([1,7,7,15])\n",
    "tensorA = tf.Variable(tensorA)\n",
    "tensorB = np.arange(1*7*7*15).reshape([1,7,7,15])*2\n",
    "tensorB = tf.Variable(tensorB)\n",
    "tf.math.reduce_sum(tf.subtract(tensorB,tensorA),axis=-1)"
   ]
  },
  {
   "cell_type": "code",
   "execution_count": 125,
   "id": "8f7c821d-8b6e-4094-9344-691c8dfb16f2",
   "metadata": {
    "tags": []
   },
   "outputs": [],
   "source": [
    "class yolo_loss_function(tf.keras.losses.Loss):\n",
    "    def __init__(self, grid_size, no_of_bnb, no_class):\n",
    "        self.grid_size = grid_size\n",
    "        self.no_of_bnb = no_of_bnb\n",
    "        self.no_class = no_class\n",
    "        self.coord_param = 0.5\n",
    "\n",
    "    def call(self, y_true, y_pred):\n",
    "        # True labels\n",
    "        label_class = y_true[:,:,:,:self.no_class]\n",
    "        label_box = y_true[:,:,:,self.no_class:self.no_class+4]\n",
    "        response_mask = y_true[:,:,:,-1:]\n",
    "        # Predicted labels\n",
    "        pred_class = y_pred[:,:,:,:self.no_class]\n",
    "        pred_trust = y_true[:,:,:,self.no_class:self.no_class+self.no_of_bnb]\n",
    "        pred_box = y_true[:,:,:,self.no_class+self.no_of_bnb:]\n",
    "        \n",
    "        # Calculating the losses of the centers of the objects\n",
    "        # coord * SUM(Iobj_i-j((x - xhat)² + (y - yhat)²))\n",
    "        \n",
    "        # Calculating the losses of the weith and heigth of the bb\n",
    "        # coord * SUM(Iobj_i-j((w^0.5 - what^0.5)² + (h^0.5 - hhat^0.5)²))\n",
    "        \n",
    "        # Calculating the losses of the confidence in the predictions\n",
    "        # SUM(Iobj_i-j((C - Chat)²)) + no_objt_param*SUM(Inoobj_i-j(h^0.5 - hhat^0.5)²)\n",
    "        # Inoobj_i-j es de oposite of Iobj_i-j\n",
    "        \n",
    "        # Calculating the losses of the classes\n",
    "        # SUM_everycell(SUM_classes((C - Chat)²))\n",
    "        classes_loss = tf.math.reduce_sum(tf.multiply(response_mask, tf.math.reduce_sum(tf.subtract(label_class,pred_class),axis=-1)))\n",
    "        # Calculating the total loss\n",
    "        total_loss = classes_loss\n",
    "        return total_loss\n",
    "\n",
    "# class MeanSquaredError(Loss):\n",
    "#     def call(self, y_true, y_pred):\n",
    "#         return tf.reduce_mean(tf.math.square(y_pred - y_true), axis=-1)\n",
    "# def xywh2minmax(xy, wh):\n",
    "#     xy_min = xy - wh / 2\n",
    "#     xy_max = xy + wh / 2\n",
    "\n",
    "#     return xy_min, xy_max\n",
    "\n",
    "\n",
    "# def iou(pred_mins, pred_maxes, true_mins, true_maxes):\n",
    "#     intersect_mins = K.maximum(pred_mins, true_mins)\n",
    "#     intersect_maxes = K.minimum(pred_maxes, true_maxes)\n",
    "#     intersect_wh = K.maximum(intersect_maxes - intersect_mins, 0.)\n",
    "#     intersect_areas = intersect_wh[..., 0] * intersect_wh[..., 1]\n",
    "\n",
    "#     pred_wh = pred_maxes - pred_mins\n",
    "#     true_wh = true_maxes - true_mins\n",
    "#     pred_areas = pred_wh[..., 0] * pred_wh[..., 1]\n",
    "#     true_areas = true_wh[..., 0] * true_wh[..., 1]\n",
    "\n",
    "#     union_areas = pred_areas + true_areas - intersect_areas\n",
    "#     iou_scores = intersect_areas / union_areas\n",
    "\n",
    "#     return iou_scores\n",
    "\n",
    "\n",
    "# def yolo_head(feats):\n",
    "#     # Dynamic implementation of conv dims for fully convolutional model.\n",
    "#     conv_dims = K.shape(feats)[1:3]  # assuming channels last\n",
    "#     # In YOLO the height index is the inner most iteration.\n",
    "#     conv_height_index = K.arange(0, stop=conv_dims[0])\n",
    "#     conv_width_index = K.arange(0, stop=conv_dims[1])\n",
    "#     conv_height_index = K.tile(conv_height_index, [conv_dims[1]])\n",
    "\n",
    "#     # TODO: Repeat_elements and tf.split doesn't support dynamic splits.\n",
    "#     # conv_width_index = K.repeat_elements(conv_width_index, conv_dims[1], axis=0)\n",
    "#     conv_width_index = K.tile(\n",
    "#         K.expand_dims(conv_width_index, 0), [conv_dims[0], 1])\n",
    "#     conv_width_index = K.flatten(K.transpose(conv_width_index))\n",
    "#     conv_index = K.transpose(K.stack([conv_height_index, conv_width_index]))\n",
    "#     conv_index = K.reshape(conv_index, [1, conv_dims[0], conv_dims[1], 1, 2])\n",
    "#     conv_index = K.cast(conv_index, K.dtype(feats))\n",
    "\n",
    "#     conv_dims = K.cast(K.reshape(conv_dims, [1, 1, 1, 1, 2]), K.dtype(feats))\n",
    "\n",
    "#     box_xy = (feats[..., :2] + conv_index) / conv_dims * 448\n",
    "#     box_wh = feats[..., 2:4] * 448\n",
    "\n",
    "#     return box_xy, box_wh\n",
    "\n",
    "\n",
    "# def yolo_loss(y_true, y_pred):\n",
    "#     label_class = y_true[..., :20]  # ? * 7 * 7 * 20\n",
    "#     label_box = y_true[..., 20:24]  # ? * 7 * 7 * 4\n",
    "#     response_mask = y_true[..., 24]  # ? * 7 * 7\n",
    "#     response_mask = K.expand_dims(response_mask)  # ? * 7 * 7 * 1\n",
    "\n",
    "#     predict_class = y_pred[..., :20]  # ? * 7 * 7 * 20\n",
    "#     predict_trust = y_pred[..., 20:22]  # ? * 7 * 7 * 2\n",
    "#     predict_box = y_pred[..., 22:]  # ? * 7 * 7 * 8\n",
    "\n",
    "#     _label_box = K.reshape(label_box, [-1, 7, 7, 1, 4])\n",
    "#     _predict_box = K.reshape(predict_box, [-1, 7, 7, 2, 4])\n",
    "\n",
    "#     label_xy, label_wh = yolo_head(_label_box)  # ? * 7 * 7 * 1 * 2, ? * 7 * 7 * 1 * 2\n",
    "#     label_xy = K.expand_dims(label_xy, 3)  # ? * 7 * 7 * 1 * 1 * 2\n",
    "#     label_wh = K.expand_dims(label_wh, 3)  # ? * 7 * 7 * 1 * 1 * 2\n",
    "#     label_xy_min, label_xy_max = xywh2minmax(label_xy, label_wh)  # ? * 7 * 7 * 1 * 1 * 2, ? * 7 * 7 * 1 * 1 * 2\n",
    "\n",
    "#     predict_xy, predict_wh = yolo_head(_predict_box)  # ? * 7 * 7 * 2 * 2, ? * 7 * 7 * 2 * 2\n",
    "#     predict_xy = K.expand_dims(predict_xy, 4)  # ? * 7 * 7 * 2 * 1 * 2\n",
    "#     predict_wh = K.expand_dims(predict_wh, 4)  # ? * 7 * 7 * 2 * 1 * 2\n",
    "#     predict_xy_min, predict_xy_max = xywh2minmax(predict_xy, predict_wh)  # ? * 7 * 7 * 2 * 1 * 2, ? * 7 * 7 * 2 * 1 * 2\n",
    "\n",
    "#     iou_scores = iou(predict_xy_min, predict_xy_max, label_xy_min, label_xy_max)  # ? * 7 * 7 * 2 * 1\n",
    "#     best_ious = K.max(iou_scores, axis=4)  # ? * 7 * 7 * 2\n",
    "#     best_box = K.max(best_ious, axis=3, keepdims=True)  # ? * 7 * 7 * 1\n",
    "\n",
    "#     box_mask = K.cast(best_ious >= best_box, K.dtype(best_ious))  # ? * 7 * 7 * 2\n",
    "\n",
    "#     no_object_loss = 0.5 * (1 - box_mask * response_mask) * K.square(0 - predict_trust)\n",
    "#     object_loss = box_mask * response_mask * K.square(1 - predict_trust)\n",
    "#     confidence_loss = no_object_loss + object_loss\n",
    "#     confidence_loss = K.sum(confidence_loss)\n",
    "\n",
    "#     class_loss = response_mask * K.square(label_class - predict_class)\n",
    "#     class_loss = K.sum(class_loss)\n",
    "\n",
    "#     _label_box = K.reshape(label_box, [-1, 7, 7, 1, 4])\n",
    "#     _predict_box = K.reshape(predict_box, [-1, 7, 7, 2, 4])\n",
    "\n",
    "#     label_xy, label_wh = yolo_head(_label_box)  # ? * 7 * 7 * 1 * 2, ? * 7 * 7 * 1 * 2\n",
    "#     predict_xy, predict_wh = yolo_head(_predict_box)  # ? * 7 * 7 * 2 * 2, ? * 7 * 7 * 2 * 2\n",
    "\n",
    "#     box_mask = K.expand_dims(box_mask)\n",
    "#     response_mask = K.expand_dims(response_mask)\n",
    "\n",
    "#     box_loss = 5 * box_mask * response_mask * K.square((label_xy - predict_xy) / 448)\n",
    "#     box_loss += 5 * box_mask * response_mask * K.square((K.sqrt(label_wh) - K.sqrt(predict_wh)) / 448)\n",
    "#     box_loss = K.sum(box_loss)\n",
    "\n",
    "#     loss = confidence_loss + class_loss + box_loss\n",
    "\n",
    "#     return loss"
   ]
  },
  {
   "cell_type": "markdown",
   "id": "d97b385f-aea4-4b8c-a1cd-7084ee568281",
   "metadata": {},
   "source": [
    "## 2.3 Custom learning rate functions"
   ]
  },
  {
   "cell_type": "code",
   "execution_count": null,
   "id": "98a17831-bf68-441d-883c-f7c82489a2f7",
   "metadata": {
    "tags": []
   },
   "outputs": [],
   "source": [
    "class CustomLearningRateScheduler(keras.callbacks.Callback):\n",
    "    \"\"\"Learning rate scheduler which sets the learning rate according to schedule.\n",
    "\n",
    "  Arguments:\n",
    "      schedule: a function that takes an epoch index\n",
    "          (integer, indexed from 0) and current learning rate\n",
    "          as inputs and returns a new learning rate as output (float).\n",
    "  \"\"\"\n",
    "\n",
    "    def __init__(self, schedule):\n",
    "        super(CustomLearningRateScheduler, self).__init__()\n",
    "        self.schedule = schedule\n",
    "\n",
    "    def on_epoch_begin(self, epoch, logs=None):\n",
    "        if not hasattr(self.model.optimizer, \"lr\"):\n",
    "            raise ValueError('Optimizer must have a \"lr\" attribute.')\n",
    "        # Get the current learning rate from model's optimizer.\n",
    "        lr = float(tf.keras.backend.get_value(self.model.optimizer.learning_rate))\n",
    "        # Call schedule function to get the scheduled learning rate.\n",
    "        scheduled_lr = self.schedule(epoch, lr)\n",
    "        # Set the value back to the optimizer before this epoch starts\n",
    "        tf.keras.backend.set_value(self.model.optimizer.lr, scheduled_lr)\n",
    "        print(\"\\nEpoch %05d: Learning rate is %6.4f.\" % (epoch, scheduled_lr))\n",
    "\n",
    "\n",
    "LR_SCHEDULE = [\n",
    "    # (epoch to start, learning rate) tuples\n",
    "    # (0, 0.01),\n",
    "    # (75, 0.001),\n",
    "    # (105, 0.0001),\n",
    "    (0, 0.01),\n",
    "    (15, 0.001),\n",
    "    (25, 0.0001),\n",
    "]\n",
    "\n",
    "\n",
    "def lr_schedule(epoch, lr):\n",
    "    \"\"\"Helper function to retrieve the scheduled learning rate based on epoch.\"\"\"\n",
    "    if epoch < LR_SCHEDULE[0][0] or epoch > LR_SCHEDULE[-1][0]:\n",
    "        return lr\n",
    "    for i in range(len(LR_SCHEDULE)):\n",
    "        if epoch == LR_SCHEDULE[i][0]:\n",
    "            return LR_SCHEDULE[i][1]\n",
    "    return lr"
   ]
  },
  {
   "cell_type": "markdown",
   "id": "dad2adb5-37d8-4a84-bd39-15c258106080",
   "metadata": {
    "tags": []
   },
   "source": [
    "# <b> 3. CREATING THE DATASET TO TRAIN THE NN"
   ]
  },
  {
   "cell_type": "markdown",
   "id": "3a6ee19e-d2f3-47d7-8ff8-43aaea9624b2",
   "metadata": {},
   "source": [
    "## 3.1 Pascal Voc reader"
   ]
  },
  {
   "cell_type": "code",
   "execution_count": 98,
   "id": "ddcc02ea-4862-4316-b0fa-a2cf17c99b0a",
   "metadata": {},
   "outputs": [],
   "source": [
    "# This is the mapping function for the dataset. The dataset read the\n",
    "# files of the directory and generate a list of paths, it will return\n",
    "# a tupple with (image, data_info)\n",
    "\n",
    "def pascal_voc_to_dict(filepath):\n",
    "    \"\"\"Function to get all the objects from the annotation XML file.\"\"\"\n",
    "    # The next 3 lines must be modify if the dataset or nn change:\n",
    "    grid_size = 7\n",
    "    no_class = 10\n",
    "    no_of_bnb = 2\n",
    "\n",
    "    with tf.io.gfile.GFile(filepath.numpy().decode(), \"r\") as f:\n",
    "        # print(f.read())\n",
    "        root = ET.parse(f).getroot()\n",
    "\n",
    "        size = root.find(\"size\")\n",
    "        image_w = float(size.find(\"width\").text)\n",
    "        image_h = float(size.find(\"height\").text)\n",
    "        filePath = str(root.find(\"path\").text)\n",
    "        img = tf.io.read_file(filePath)\n",
    "        img = tf.io.decode_jpeg(img, channels=1).numpy()/255.0\n",
    "        # Setting up the output tensor\n",
    "        y_true_tensor = np.zeros([grid_size, grid_size, no_class+5])\n",
    "\n",
    "        for obj in root.findall(\"object\"):\n",
    "            # Get object's label name.\n",
    "            label = int(obj.find(\"name\").text)\n",
    "            # Get objects' pose name.\n",
    "            # pose = obj.find(\"pose\").text.lower()\n",
    "            # is_truncated = obj.find(\"truncated\").text == \"1\"\n",
    "            # is_difficult = obj.find(\"difficult\").text == \"1\"\n",
    "            bndbox = obj.find(\"bndbox\")\n",
    "            xmax = float(bndbox.find(\"xmax\").text)\n",
    "            xmin = float(bndbox.find(\"xmin\").text)\n",
    "            ymax = float(bndbox.find(\"ymax\").text)\n",
    "            ymin = float(bndbox.find(\"ymin\").text)\n",
    "            # Calculating the middle point of the image and\n",
    "            # (h,w) adimensional -> [0,1]\n",
    "            x = (xmin + xmax) / 2 / image_w\n",
    "            y = (ymin + ymax) / 2 / image_h\n",
    "            w = (xmax - xmin) / image_w\n",
    "            h = (ymax - ymin) / image_h\n",
    "            # Calculate the position of the center inside\n",
    "            # of the grid (i,j) -> (x,y)\n",
    "            loc = [grid_size * x, grid_size * y]\n",
    "            loc_i = int(loc[1])\n",
    "            loc_j = int(loc[0])\n",
    "            y = loc[1] - loc_i\n",
    "            x = loc[0] - loc_j\n",
    "\n",
    "            if y_true_tensor[loc_i, loc_j, no_class+4] == 0:\n",
    "                y_true_tensor[loc_i, loc_j, label] = 1\n",
    "                y_true_tensor[loc_i, loc_j, no_class:no_class+4] = [x, y, w, h]\n",
    "                y_true_tensor[loc_i, loc_j, no_class+4] = 1  # response\n",
    "\n",
    "        return img, y_true_tensor"
   ]
  },
  {
   "cell_type": "code",
   "execution_count": 132,
   "id": "834fd1a1-eb97-4f62-babf-888fd1e55d43",
   "metadata": {},
   "outputs": [
    {
     "name": "stdout",
     "output_type": "stream",
     "text": [
      "[[0. 0. 0. 0. 0. 0. 0.]\n",
      " [0. 1. 0. 0. 0. 0. 0.]\n",
      " [0. 0. 0. 0. 0. 1. 0.]\n",
      " [1. 0. 0. 0. 0. 0. 0.]\n",
      " [0. 0. 0. 0. 0. 0. 0.]\n",
      " [0. 0. 0. 0. 0. 1. 0.]\n",
      " [0. 0. 0. 0. 0. 0. 0.]]\n"
     ]
    },
    {
     "data": {
      "image/png": "[encoded data removed]",
      "text/plain": [
       "<Figure size 640x480 with 1 Axes>"
      ]
     },
     "metadata": {},
     "output_type": "display_data"
    },
    {
     "name": "stdout",
     "output_type": "stream",
     "text": [
      "[[0. 0. 0. 0. 0. 0. 0.]\n",
      " [0. 0. 0. 0. 1. 0. 0.]\n",
      " [0. 0. 0. 0. 0. 0. 0.]\n",
      " [0. 0. 0. 0. 0. 0. 0.]\n",
      " [0. 0. 0. 0. 0. 0. 0.]\n",
      " [0. 0. 0. 0. 0. 0. 0.]\n",
      " [0. 0. 0. 0. 0. 0. 0.]]\n"
     ]
    },
    {
     "data": {
      "image/png": "[encoded data removed]",
      "text/plain": [
       "<Figure size 640x480 with 1 Axes>"
      ]
     },
     "metadata": {},
     "output_type": "display_data"
    }
   ],
   "source": [
    "# files = os.listdir(paths['train_data'])\n",
    "# files_xml = [paths['train_data']+'/'+x for x in files if x.endswith('.xml')]\n",
    "\n",
    "# def map_images_from_path(path):\n",
    "#     img = tf.io.read_file(path)\n",
    "#     img = tf.io.decode_jpeg(img, channels=1)\n",
    "#     return img\n",
    "# data = tf.data.Dataset.from_tensor_slices(files_xml)\n",
    "\n",
    "data = tf.data.Dataset.list_files(paths['train_data']+'/*.xml')\n",
    "data = data.map(lambda x: tf.py_function(pascal_voc_to_dict,inp=[x],Tout=[tf.float32, tf.float32]))\n",
    "# # data = data.map(lambda x: pascal_voc_to_dict(x.numpy().decode()))\n",
    "tensor = list()\n",
    "for x in data.take(2):\n",
    "    print(x[1].numpy()[:,:,-1])#.numpy().decode()\n",
    "    tensor.append(x[1])\n",
    "    plt.imshow(x[0].numpy())\n",
    "    plt.show()"
   ]
  },
  {
   "cell_type": "code",
   "execution_count": 135,
   "id": "b2b97336-d6cf-4077-945d-dc5556100114",
   "metadata": {},
   "outputs": [
    {
     "data": {
      "text/plain": [
       "TensorShape([7, 7, 15])"
      ]
     },
     "execution_count": 135,
     "metadata": {},
     "output_type": "execute_result"
    }
   ],
   "source": [
    "# A = tf.ones([1,5,5,3])\n",
    "# B = tf.multiply(A,2)\n",
    "# tf.multiply(A,B)\n",
    "A = tensor[0]\n",
    "B = tensor[1]"
   ]
  },
  {
   "cell_type": "code",
   "execution_count": null,
   "id": "b70a6ad9-830e-48d5-9dd7-93cf5640e4bd",
   "metadata": {},
   "outputs": [],
   "source": [
    "def process_path(file_path):\n",
    "    label = get_label(file_path)\n",
    "    # Load the raw data from the file as a string\n",
    "    img = tf.io.read_file(file_path)\n",
    "    img = decode_img(img)\n",
    "    return img, label"
   ]
  },
  {
   "cell_type": "code",
   "execution_count": null,
   "id": "5727772f-1765-4666-b63c-3cfa81c523e3",
   "metadata": {},
   "outputs": [],
   "source": [
    "for i in data.take(1):\n",
    "    print(i.numpy())"
   ]
  },
  {
   "cell_type": "code",
   "execution_count": null,
   "id": "f7e40d7d-301b-4118-b964-726f5d9fe356",
   "metadata": {},
   "outputs": [],
   "source": [
    "img = tf.io.read_file(file_path)\n",
    "plt.imshow(tf.io.decode_jpeg(img, channels=1).numpy(),cmap='gray')"
   ]
  },
  {
   "cell_type": "code",
   "execution_count": null,
   "id": "3d44a986-1fad-4c68-8d20-3c8e4d268b42",
   "metadata": {},
   "outputs": [],
   "source": [
    "tf.keras.datasets.features.BBox(1,2,3,4)"
   ]
  },
  {
   "cell_type": "code",
   "execution_count": null,
   "id": "1a1f306d-0858-4929-bf72-031b7413d3ee",
   "metadata": {},
   "outputs": [],
   "source": [
    "import tensorflow_datasets as tfds"
   ]
  },
  {
   "cell_type": "code",
   "execution_count": null,
   "id": "0b8fe117-ed39-475b-88e3-6638babce15a",
   "metadata": {},
   "outputs": [],
   "source": []
  }
 ],
 "metadata": {
  "kernelspec": {
   "display_name": "MNIST_OD",
   "language": "python",
   "name": "mnist_od"
  },
  "language_info": {
   "codemirror_mode": {
    "name": "ipython",
    "version": 3
   },
   "file_extension": ".py",
   "mimetype": "text/x-python",
   "name": "python",
   "nbconvert_exporter": "python",
   "pygments_lexer": "ipython3",
   "version": "3.9.12"
  }
 },
 "nbformat": 4,
 "nbformat_minor": 5
}
