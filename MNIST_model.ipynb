{
 "cells": [
  {
   "cell_type": "markdown",
   "id": "767851fe-662b-4280-90cf-749a30073259",
   "metadata": {},
   "source": [
    "# <b> 0. IMPORTING LIBRARIES"
   ]
  },
  {
   "cell_type": "code",
   "execution_count": 1,
   "id": "7d6ea665-b5cb-4dcb-b98f-9610785b5d55",
   "metadata": {},
   "outputs": [],
   "source": [
    "import numpy as np\n",
    "import os\n",
    "from matplotlib import pyplot as plt\n",
    "import tensorflow as tf\n",
    "from tqdm import tqdm"
   ]
  },
  {
   "cell_type": "markdown",
   "id": "d2b1d6f1-607c-4f63-992a-a9d79feeb6e0",
   "metadata": {},
   "source": [
    "# <b> 1. CREATING PATHS TO DIRECTORIES"
   ]
  },
  {
   "cell_type": "code",
   "execution_count": 2,
   "id": "1ff0a744-3903-43ef-a883-249b818ea19c",
   "metadata": {},
   "outputs": [],
   "source": [
    "#files path in a dictionary\n",
    "paths = dict()\n",
    "# Linux pc\n",
    "paths['main'] = '/home/javi/Desktop/Python/MNIST_OD'\n",
    "paths['dataset'] = os.path.join(paths['main'], 'MNIST_dataset')\n",
    "paths['train_data'] = os.path.join(paths['dataset'], 'train')\n",
    "paths['test_data'] = os.path.join(paths['dataset'], 'test')\n",
    "# Windows pc\n",
    "# paths['main'] = os.path.normcase('D:\\Javi\\Python\\MNIST_OD')#.replace('\\\\','/'))\n",
    "# paths['dataset'] = os.path.join(paths['main'], 'MNIST_dataset'))\n",
    "# paths['train_data'] = os.path.join(paths['dataset'], 'train')\n",
    "# paths['test_data'] = os.path.join(paths['dataset'], 'test')\n",
    "# paths['test_img'] = os.path.join(paths['test_data'], 'test')"
   ]
  },
  {
   "cell_type": "code",
   "execution_count": null,
   "id": "ddcc02ea-4862-4316-b0fa-a2cf17c99b0a",
   "metadata": {},
   "outputs": [],
   "source": [
    "def pascal_voc_to_dict(filepath):\n",
    "    \"\"\"Function to get all the objects from the annotation XML file.\"\"\"\n",
    "    with tf.io.gfile.GFile(annon_filepath, \"r\") as f:\n",
    "        root = xml.etree.ElementTree.parse(f).getroot()\n",
    "\n",
    "        # Disable pytype to avoid attribute-error due to find returning\n",
    "        # Optional[Element]\n",
    "        # pytype: disable=attribute-error\n",
    "        size = root.find(\"size\")\n",
    "        width = float(size.find(\"width\").text)\n",
    "        height = float(size.find(\"height\").text)\n",
    "        filePath = size.find(\"filename\").text\n",
    "\n",
    "        for obj in root.findall(\"object\"):\n",
    "            # Get object's label name.\n",
    "            label = obj.find(\"name\").text.lower()\n",
    "            # Get objects' pose name.\n",
    "            pose = obj.find(\"pose\").text.lower()\n",
    "            is_truncated = obj.find(\"truncated\").text == \"1\"\n",
    "            is_difficult = obj.find(\"difficult\").text == \"1\"\n",
    "            bndbox = obj.find(\"bndbox\")\n",
    "            xmax = float(bndbox.find(\"xmax\").text)\n",
    "            xmin = float(bndbox.find(\"xmin\").text)\n",
    "            ymax = float(bndbox.find(\"ymax\").text)\n",
    "            ymin = float(bndbox.find(\"ymin\").text)\n",
    "            yield {\n",
    "                      \"label\": label,\n",
    "                      # \"pose\": pose,\n",
    "                      \"bbox\": tfds.features.BBox(\n",
    "                          ymin / height, xmin / width, ymax / height, xmax / width\n",
    "                      ),\n",
    "                      # \"is_truncated\": is_truncated,\n",
    "                      # \"is_difficult\": is_difficult,\n",
    "                    }"
   ]
  },
  {
   "cell_type": "code",
   "execution_count": 35,
   "id": "834fd1a1-eb97-4f62-babf-888fd1e55d43",
   "metadata": {},
   "outputs": [],
   "source": [
    "# files = os.listdir(paths['train_data'])\n",
    "def map_images_from_path(path):\n",
    "    img = tf.io.read_file(path)\n",
    "    img = tf.io.decode_jpeg(img, channels=1)\n",
    "    return img\n",
    "\n",
    "data = tf.data.Dataset.list_files(paths['train_data']+'/*.jpg')\n",
    "data = data.map(map_images_from_path)\n"
   ]
  },
  {
   "cell_type": "code",
   "execution_count": 24,
   "id": "b2b97336-d6cf-4077-945d-dc5556100114",
   "metadata": {},
   "outputs": [],
   "source": [
    "file_path = data.as_numpy_iterator().next()\n",
    "#img = tf.io.read_file(file_path)"
   ]
  },
  {
   "cell_type": "code",
   "execution_count": null,
   "id": "b70a6ad9-830e-48d5-9dd7-93cf5640e4bd",
   "metadata": {},
   "outputs": [],
   "source": [
    "def process_path(file_path):\n",
    "    label = get_label(file_path)\n",
    "    # Load the raw data from the file as a string\n",
    "    img = tf.io.read_file(file_path)\n",
    "    img = decode_img(img)\n",
    "    return img, label"
   ]
  },
  {
   "cell_type": "code",
   "execution_count": 41,
   "id": "5727772f-1765-4666-b63c-3cfa81c523e3",
   "metadata": {},
   "outputs": [
    {
     "name": "stdout",
     "output_type": "stream",
     "text": [
      "[[[0]\n",
      "  [0]\n",
      "  [0]\n",
      "  ...\n",
      "  [0]\n",
      "  [0]\n",
      "  [0]]\n",
      "\n",
      " [[0]\n",
      "  [0]\n",
      "  [0]\n",
      "  ...\n",
      "  [0]\n",
      "  [0]\n",
      "  [0]]\n",
      "\n",
      " [[0]\n",
      "  [0]\n",
      "  [0]\n",
      "  ...\n",
      "  [0]\n",
      "  [0]\n",
      "  [0]]\n",
      "\n",
      " ...\n",
      "\n",
      " [[0]\n",
      "  [0]\n",
      "  [0]\n",
      "  ...\n",
      "  [0]\n",
      "  [0]\n",
      "  [0]]\n",
      "\n",
      " [[0]\n",
      "  [0]\n",
      "  [0]\n",
      "  ...\n",
      "  [0]\n",
      "  [0]\n",
      "  [0]]\n",
      "\n",
      " [[0]\n",
      "  [0]\n",
      "  [0]\n",
      "  ...\n",
      "  [0]\n",
      "  [0]\n",
      "  [0]]]\n"
     ]
    }
   ],
   "source": [
    "for i in data.take(1):\n",
    "    print(i.numpy())"
   ]
  },
  {
   "cell_type": "code",
   "execution_count": 33,
   "id": "f7e40d7d-301b-4118-b964-726f5d9fe356",
   "metadata": {},
   "outputs": [
    {
     "data": {
      "text/plain": [
       "<matplotlib.image.AxesImage at 0x7fc7c93f0bb0>"
      ]
     },
     "execution_count": 33,
     "metadata": {},
     "output_type": "execute_result"
    },
    {
     "data": {
      "image/png": "[encoded data removed]",
      "text/plain": [
       "<Figure size 640x480 with 1 Axes>"
      ]
     },
     "metadata": {},
     "output_type": "display_data"
    }
   ],
   "source": [
    "img = tf.io.read_file(file_path)\n",
    "plt.imshow(tf.io.decode_jpeg(img, channels=1).numpy(),cmap='gray')"
   ]
  },
  {
   "cell_type": "code",
   "execution_count": 46,
   "id": "3d44a986-1fad-4c68-8d20-3c8e4d268b42",
   "metadata": {},
   "outputs": [
    {
     "ename": "AttributeError",
     "evalue": "module 'keras.api._v2.keras.datasets' has no attribute 'features'",
     "output_type": "error",
     "traceback": [
      "\u001b[0;31m---------------------------------------------------------------------------\u001b[0m",
      "\u001b[0;31mAttributeError\u001b[0m                            Traceback (most recent call last)",
      "Cell \u001b[0;32mIn[46], line 1\u001b[0m\n\u001b[0;32m----> 1\u001b[0m \u001b[43mtf\u001b[49m\u001b[38;5;241;43m.\u001b[39;49m\u001b[43mkeras\u001b[49m\u001b[38;5;241;43m.\u001b[39;49m\u001b[43mdatasets\u001b[49m\u001b[38;5;241;43m.\u001b[39;49m\u001b[43mfeatures\u001b[49m\u001b[38;5;241m.\u001b[39mBBox(\u001b[38;5;241m1\u001b[39m,\u001b[38;5;241m2\u001b[39m,\u001b[38;5;241m3\u001b[39m,\u001b[38;5;241m4\u001b[39m)\n",
      "\u001b[0;31mAttributeError\u001b[0m: module 'keras.api._v2.keras.datasets' has no attribute 'features'"
     ]
    }
   ],
   "source": [
    "tf.keras.datasets.features.BBox(1,2,3,4)"
   ]
  },
  {
   "cell_type": "code",
   "execution_count": 47,
   "id": "1a1f306d-0858-4929-bf72-031b7413d3ee",
   "metadata": {},
   "outputs": [
    {
     "ename": "ModuleNotFoundError",
     "evalue": "No module named 'tensorflow_datasets'",
     "output_type": "error",
     "traceback": [
      "\u001b[0;31m---------------------------------------------------------------------------\u001b[0m",
      "\u001b[0;31mModuleNotFoundError\u001b[0m                       Traceback (most recent call last)",
      "Cell \u001b[0;32mIn[47], line 1\u001b[0m\n\u001b[0;32m----> 1\u001b[0m \u001b[38;5;28;01mimport\u001b[39;00m \u001b[38;5;21;01mtensorflow_datasets\u001b[39;00m \u001b[38;5;28;01mas\u001b[39;00m \u001b[38;5;21;01mtfds\u001b[39;00m\n",
      "\u001b[0;31mModuleNotFoundError\u001b[0m: No module named 'tensorflow_datasets'"
     ]
    }
   ],
   "source": [
    "import tensorflow_datasets as tfds"
   ]
  },
  {
   "cell_type": "code",
   "execution_count": null,
   "id": "0b8fe117-ed39-475b-88e3-6638babce15a",
   "metadata": {},
   "outputs": [],
   "source": []
  }
 ],
 "metadata": {
  "kernelspec": {
   "display_name": "MNIST_OD",
   "language": "python",
   "name": "mnist_od"
  },
  "language_info": {
   "codemirror_mode": {
    "name": "ipython",
    "version": 3
   },
   "file_extension": ".py",
   "mimetype": "text/x-python",
   "name": "python",
   "nbconvert_exporter": "python",
   "pygments_lexer": "ipython3",
   "version": "3.9.12"
  }
 },
 "nbformat": 4,
 "nbformat_minor": 5
}
