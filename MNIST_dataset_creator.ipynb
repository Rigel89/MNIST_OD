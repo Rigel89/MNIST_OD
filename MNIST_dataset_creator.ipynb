{
 "cells": [
  {
   "cell_type": "markdown",
   "id": "0ad9fa0e-4282-4137-aacf-fc58582729c7",
   "metadata": {},
   "source": [
    "# <b>0. IMPORTING LIBRARIES"
   ]
  },
  {
   "cell_type": "code",
   "execution_count": 137,
   "id": "7b800da4-dd0b-48fa-8d3a-5308d4b9377f",
   "metadata": {
    "tags": []
   },
   "outputs": [],
   "source": [
    "import numpy as np\n",
    "import pandas as pd\n",
    "import os\n",
    "from matplotlib import pyplot as plt\n",
    "import tensorflow as tf\n",
    "import cv2 as cv\n",
    "import random\n",
    "from tqdm import tqdm\n",
    "import xml.etree.ElementTree as ET\n",
    "import xml.dom.minidom"
   ]
  },
  {
   "cell_type": "markdown",
   "id": "90563490-b8d6-46c8-9012-09630cdcaa15",
   "metadata": {},
   "source": [
    "# <b> 1. Paths to directories and files"
   ]
  },
  {
   "cell_type": "markdown",
   "id": "89571021-5127-4327-a036-a5c0be2161d4",
   "metadata": {
    "tags": []
   },
   "source": [
    "### 1.1 Donwloading the MNIST dataset from TF and preparing the directories to save the new dataset"
   ]
  },
  {
   "cell_type": "code",
   "execution_count": 2,
   "id": "166014ea-6873-4ec1-854e-7dd7c0906cde",
   "metadata": {
    "tags": []
   },
   "outputs": [],
   "source": [
    "#donwload dataset mnist\n",
    "(x_train_ori, y_train_ori), (x_test_ori, y_test_ori) = tf.keras.datasets.mnist.load_data()\n",
    "assert x_train_ori.shape == (60000, 28, 28)\n",
    "assert x_test_ori.shape == (10000, 28, 28)\n",
    "assert y_train_ori.shape == (60000,)\n",
    "assert y_test_ori.shape == (10000,)"
   ]
  },
  {
   "cell_type": "code",
   "execution_count": 3,
   "id": "a9384ac8-bdea-47fb-ac20-1c658b90a1c6",
   "metadata": {
    "tags": []
   },
   "outputs": [],
   "source": [
    "#files path in a dictionary\n",
    "paths = dict()\n",
    "\n",
    "paths['main'] = os.path.dirname('D:\\Javi\\Python\\MNIST_OD')\n",
    "paths['dataset'] = os.path.join(paths['main'], 'MNIST_dataset')\n",
    "paths['train_data'] = os.path.join(paths['dataset'], 'train')\n",
    "paths['test_data'] = os.path.join(paths['dataset'], 'test')\n",
    "# paths['test_img'] = os.path.join(paths['test_data'], 'test')"
   ]
  },
  {
   "cell_type": "markdown",
   "id": "9f2380a8-00ed-4b45-bdfa-f4eb2f3a2f6f",
   "metadata": {
    "tags": []
   },
   "source": [
    "### 1.2 Preparing the dataset to generate new data"
   ]
  },
  {
   "cell_type": "code",
   "execution_count": 4,
   "id": "cc6c9f6c-b7c1-4b63-9df1-2879b8fce326",
   "metadata": {
    "tags": []
   },
   "outputs": [
    {
     "name": "stderr",
     "output_type": "stream",
     "text": [
      "2023-03-08 00:53:32.922802: I tensorflow/core/platform/cpu_feature_guard.cc:151] This TensorFlow binary is optimized with oneAPI Deep Neural Network Library (oneDNN) to use the following CPU instructions in performance-critical operations:  AVX2 FMA\n",
      "To enable them in other operations, rebuild TensorFlow with the appropriate compiler flags.\n"
     ]
    }
   ],
   "source": [
    "#convert the raw data to a dataset-object\n",
    "\n",
    "train = tf.data.Dataset.from_tensor_slices((x_train_ori,y_train_ori))\n",
    "test = tf.data.Dataset.from_tensor_slices((x_test_ori,y_test_ori))\n",
    "\n",
    "#genetating the input data format\n",
    "BATCH = 5\n",
    "FETCH = 6\n",
    "SHUFFLE = 600\n",
    "\n",
    "\n",
    "train = train.batch(BATCH).shuffle(SHUFFLE).prefetch(FETCH)\n",
    "test = test.batch(BATCH).prefetch(FETCH)"
   ]
  },
  {
   "cell_type": "markdown",
   "id": "43626707-d480-4fbb-ad71-7c56248b977e",
   "metadata": {
    "tags": []
   },
   "source": [
    "# 2. Functions to preproccess images in to the new dataset"
   ]
  },
  {
   "cell_type": "code",
   "execution_count": 5,
   "id": "e06eb081-b4c4-4918-8c00-54b3b7f04352",
   "metadata": {},
   "outputs": [],
   "source": [
    "# function to rotate images\n",
    "\n",
    "def rotate_image(image, angle, not_print = True):\n",
    "    '''\n",
    "    This function rotate the image and plot it\n",
    "    Imput params:\n",
    "        image = array like,\n",
    "        angle = counterclockwise rotate angle (degrees),\n",
    "        not_print = if 'True' do not plot an image\n",
    "    Return:\n",
    "        image = image rotated [array like]\n",
    "    '''\n",
    "    image_center = tuple(np.array(image.shape[1::-1]) / 2)\n",
    "    rot_mat = cv.getRotationMatrix2D(image_center, angle, 1.0)\n",
    "    result = cv.warpAffine(image, rot_mat, image.shape[1::-1], flags=cv.INTER_LINEAR)\n",
    "    if not not_print:\n",
    "        plt.imshow(result, cmap='gray')\n",
    "        plt.show()\n",
    "    return result"
   ]
  },
  {
   "cell_type": "code",
   "execution_count": 161,
   "id": "edabe0a6-c2ef-4841-b0a2-3c7876e191d3",
   "metadata": {},
   "outputs": [],
   "source": [
    "# Create a pascal voc format file from the dictionary data\n",
    "\n",
    "def dict_to_xml(tag, d, attribute=None):\n",
    "    '''\n",
    "    This function create a xml object from scratch\n",
    "    attributes:\n",
    "    - tag : str name of the top tag\n",
    "    - d : dict like to create child elemments in xml\n",
    "    - attribute : attribute for top tag (default=None)\n",
    "    return: xml object\n",
    "    '''\n",
    "    elem = ET.Element(tag)\n",
    "    if attribute is not None:\n",
    "        elem.attrib = attribute\n",
    "    for key, val in d.items():\n",
    "        child = ET.Element(key)\n",
    "        child.text = str(val)\n",
    "        elem.append(child)\n",
    "    return elem\n",
    "\n",
    "\n",
    "def add_dict_to_xml(xml, d):\n",
    "    '''\n",
    "    This function modify chilid elemments\n",
    "    for an xml object\n",
    "    attributes:\n",
    "    - xml : xml parent obj\n",
    "    - d : dict like to create child elemments in xml\n",
    "    return: None\n",
    "    '''\n",
    "    elem = xml\n",
    "    for key, val in d.items():\n",
    "        child = ET.Element(key)\n",
    "        child.text = str(val)\n",
    "        elem.append(child)\n",
    "\n",
    "\n",
    "def toPascalVocFormat(name_of_the_file, directory_name, dictionary_data):\n",
    "    '''\n",
    "    This function create a xml file.\n",
    "    Attributes:\n",
    "    - name_of_the_file: name of the file (str)\n",
    "    - directory_name: directory path to save the file (str)\n",
    "    - d: list of dict len(d)=number of objects in the image\n",
    "      d example: [{'name': 'Name_of_the_file', 'x_min': 'int',\n",
    "                   'ymin': 'int', 'xmax': 'int', 'ymax': 'int'}]\n",
    "    return: None\n",
    "    '''\n",
    "    # Baseline data in a dictionary format\n",
    "    basicXmlFileDict = {'folder': directory_name,\n",
    "                        'file': name_of_the_file+'.xml',\n",
    "                        'path': os.path.join(directory_name,\n",
    "                                             name_of_the_file+'.xml'),\n",
    "                        'source': 'MNIST dataset for OD by Javi',\n",
    "                        'size': 'size of the image',\n",
    "                        'segmented': '0'}\n",
    "\n",
    "    sizeDict = {'width': '140', 'height': '140', 'depth': '1'}\n",
    "\n",
    "    dummyObject = {'name': 'Name_of_the_file', 'pose': 'Unspectified',\n",
    "                   'truncated': '0', 'difficult': '0'}\n",
    "\n",
    "    dummyObjectBNB = {'x_min': 'int', 'ymin': 'int',\n",
    "                      'xmax': 'int', 'ymax': 'int'}\n",
    "\n",
    "    dummy_xml = dict_to_xml('annotations', basicXmlFileDict,\n",
    "                            attribute={'verified': 'no'})\n",
    "    add_dict_to_xml(dummy_xml.find('size'), sizeDict)\n",
    "\n",
    "    for item in dictionary_data:\n",
    "        dummyObject['name'] = item['name']\n",
    "        dummyObjectBNB['x_min'] = item['x_min']\n",
    "        dummyObjectBNB['ymin'] = item['ymin']\n",
    "        dummyObjectBNB['xmax'] = item['xmax']\n",
    "        dummyObjectBNB['ymax'] = item['ymax']\n",
    "        add_dict_to_xml(dummy_xml, dummyObject)\n",
    "        ET.SubElement(dummy_xml[-1], 'bndbox')\n",
    "        add_dict_to_xml(dummy_xml[-1].find('bndbox'), dummyObject)\n",
    "    # Creating a xml in the directory\n",
    "    f = open(basicXmlFileDict['path'], \"r\")\n",
    "    file = ET.tostring(new_xml)\n",
    "    dom = xml.dom.minidom.parseString(file)\n",
    "    pretty_xml_as_string = dom.toprettyxml()\n",
    "    f.write(pretty_xml_as_string)\n",
    "    f.close()"
   ]
  },
  {
   "cell_type": "code",
   "execution_count": null,
   "id": "53e84aa1-517a-49ef-a986-27af9607bb62",
   "metadata": {},
   "outputs": [],
   "source": [
    "# Creating a function to increase the accuracy of the bounding box on the image\n",
    "\n",
    "def clossing_bnb(image, possition_list):\n",
    "    '''\n",
    "    This function take an image and the possition of an object in the image\n",
    "    and try to close the box arround the object til the first pixel not dark\n",
    "    Attributes:\n",
    "    - image: ndarry of the image\n",
    "    - possition_list: list of the initial possition of the object (list of lists)\n",
    "    return: new possition of the objects (list of lists)\n",
    "    '''\n",
    "    for point in possition_list:\n",
    "        pass"
   ]
  },
  {
   "cell_type": "code",
   "execution_count": 32,
   "id": "2eaf196a-259b-40bb-90a9-5f7dcfc0d0b6",
   "metadata": {},
   "outputs": [],
   "source": [
    "# function to create a dataset image\n",
    "\n",
    "def image_generator(tf_dataset, number_of_images):\n",
    "    # For every number_of_images that it is going to be created:\n",
    "    images, labels = tf_dataset.as_numpy_iterator().next()\n",
    "    batch_size = images.shape[0]\n",
    "    listOfPositions = list(range(batch_size))\n",
    "    for numb in tqdm(range(number_of_images)):\n",
    "        # take a banch of the dataset\n",
    "        images, labels = tf_dataset.as_numpy_iterator().next()\n",
    "        numberOfImages = random.randint(1, batch_size)\n",
    "        # take a random numberOfImages from the banch\n",
    "        indexOfImages = random.sample(listOfPositions, numberOfImages)\n",
    "        # generate a back image\n",
    "        img = np.zeros((140, 140), dtype=np.uint8)\n",
    "        positionList = list()\n",
    "        # For every image chose:\n",
    "        for noi in range(numberOfImages):\n",
    "            # Rotate the image and scaled 0.5 to 1.5 times\n",
    "            rotationAngle = random.randint(-45, 45)\n",
    "            scaleFactor = round((1.5*random.random()+0.5)*28)\n",
    "            # print(scaleFactor)\n",
    "            size = (scaleFactor, scaleFactor)\n",
    "            stopper = 0\n",
    "            # For every number noi, try to find a possition to do not overlap each other (5 tries):\n",
    "            while stopper <= 5:\n",
    "                # Generate random position\n",
    "                x = random.randint(0, 140-scaleFactor)\n",
    "                y = random.randint(0, 140-scaleFactor)\n",
    "                # print(x,y)\n",
    "                # Initilize the possition has available (not overlap)\n",
    "                positionCompromised = False\n",
    "                # Compare with the numbers already added to the black image\n",
    "                for pos in positionList:\n",
    "                    # print('Scales',pos[2],scaleFactor)\n",
    "                    # print(x, y, x+scaleFactor, y+scaleFactor)\n",
    "                    # print(pos[0],pos[1],pos[0]+pos[2],pos[1]+pos[2])\n",
    "                    # Is the new number size bigger than the old one\n",
    "                    if scaleFactor > pos[2]:\n",
    "                        # The points are True if old point inside square ->(x, y), (x+scale, y+scale)\n",
    "                        point1 = (pos[0] > x and pos[0] < x+scaleFactor) and (pos[1] > y and pos[1] < y+scaleFactor)\n",
    "                        point2 = (pos[0]+pos[2] > x and pos[0]+pos[2] < x+scaleFactor) and (pos[1] > y and pos[1] < y+scaleFactor)\n",
    "                        point3 = (pos[0]+pos[2] > x and pos[0]+pos[2] < x+scaleFactor) and (pos[1]+pos[2] > y and pos[1]+pos[2] < y+scaleFactor)\n",
    "                        point4 = (pos[0] > x and pos[0] < x+scaleFactor) and (pos[1]+pos[2] > y and pos[1]+pos[2] < y+scaleFactor)\n",
    "                    else:\n",
    "                        # The points are True if new point inside square -> pos\n",
    "                        point1 = (x > pos[0] and x < pos[0]+pos[2]) and (y > pos[1] and y < pos[1]+pos[2])\n",
    "                        point2 = (x+scaleFactor > pos[0] and x+scaleFactor < pos[0]+pos[2]) and (y > pos[1] and y < pos[1]+pos[2])\n",
    "                        point3 = (x+scaleFactor > pos[0] and x+scaleFactor < pos[0]+pos[2]) and (y+scaleFactor > pos[1] and y+scaleFactor < pos[1]+pos[2])\n",
    "                        point4 = (x > pos[0] and x < pos[0]+pos[2]) and (y+scaleFactor > pos[1] and y+scaleFactor < pos[1]+pos[2])\n",
    "                    # If any point is True the image is ocluding other one and is not included\n",
    "                    if point1 or point2 or point3 or point4:\n",
    "                        # print('denegado')\n",
    "                        positionCompromised = True\n",
    "                    # print(scaleFactor > pos[2],point1,point2,point3,point4)\n",
    "                if len(positionList) == 0:\n",
    "                    positionList.append([x, y, scaleFactor])\n",
    "                    img[x:x+scaleFactor, y:y+scaleFactor] = rotate_image(cv.resize(images[noi], size), \n",
    "                                                                         rotationAngle, not_print = True)\n",
    "                    stopper = 10\n",
    "                elif not positionCompromised:\n",
    "                    # print('Premio')\n",
    "                    positionList.append([x, y, scaleFactor])\n",
    "                    img[x:x+scaleFactor, y:y+scaleFactor] = rotate_image(cv.resize(images[noi], size), \n",
    "                                                                         rotationAngle, not_print = True)\n",
    "                    stopper = 10\n",
    "                stopper += 1\n",
    "        plt.imshow(img)\n",
    "        plt.show()"
   ]
  },
  {
   "cell_type": "code",
   "execution_count": 33,
   "id": "864eb498-92f4-4694-b97e-0e21574b4597",
   "metadata": {},
   "outputs": [
    {
     "name": "stderr",
     "output_type": "stream",
     "text": [
      "  0%|                                                     | 0/3 [00:00<?, ?it/s]"
     ]
    },
    {
     "data": {
      "image/png": "[encoded data removed]",
      "text/plain": [
       "<Figure size 640x480 with 1 Axes>"
      ]
     },
     "metadata": {},
     "output_type": "display_data"
    },
    {
     "name": "stderr",
     "output_type": "stream",
     "text": [
      " 33%|███████████████                              | 1/3 [00:00<00:00,  4.84it/s]"
     ]
    },
    {
     "data": {
      "image/png": "[encoded data removed]",
      "text/plain": [
       "<Figure size 640x480 with 1 Axes>"
      ]
     },
     "metadata": {},
     "output_type": "display_data"
    },
    {
     "name": "stderr",
     "output_type": "stream",
     "text": [
      " 67%|██████████████████████████████               | 2/3 [00:00<00:00,  4.71it/s]"
     ]
    },
    {
     "data": {
      "image/png": "[encoded data removed]",
      "text/plain": [
       "<Figure size 640x480 with 1 Axes>"
      ]
     },
     "metadata": {},
     "output_type": "display_data"
    },
    {
     "name": "stderr",
     "output_type": "stream",
     "text": [
      "100%|█████████████████████████████████████████████| 3/3 [00:00<00:00,  4.61it/s]\n"
     ]
    }
   ],
   "source": [
    "#Creatting a seed, in order to get replicable solution\n",
    "# random.seed(13)\n",
    "\n",
    "image_generator(train, 3)\n"
   ]
  },
  {
   "cell_type": "code",
   "execution_count": 13,
   "id": "0e240fe2-7d21-47c1-bbaf-01484b33cc49",
   "metadata": {},
   "outputs": [],
   "source": [
    "A, B = train.as_numpy_iterator().next()"
   ]
  },
  {
   "cell_type": "code",
   "execution_count": 14,
   "id": "79a7abd5-560c-4606-96b2-4a9b30936ea3",
   "metadata": {},
   "outputs": [
    {
     "data": {
      "text/plain": [
       "(5, 28, 28)"
      ]
     },
     "execution_count": 14,
     "metadata": {},
     "output_type": "execute_result"
    }
   ],
   "source": [
    "A.shape"
   ]
  },
  {
   "cell_type": "code",
   "execution_count": null,
   "id": "67dd6865-869b-485a-9cc5-dfe52977bcb5",
   "metadata": {},
   "outputs": [],
   "source": [
    "numberOfImages = random.randint(1,5)\n",
    "indexOfImages = random.sample([1,2,3,4,5],numberOfImages)\n",
    "rotationAngle = random.randint(-90,90)\n",
    "scaleFactor = random.random()+0.5\n",
    "size = (round(scaleFactor*28),round(scaleFactor*28))\n",
    "img = tf.zeros((140,140),dtype=np.uint8)"
   ]
  },
  {
   "cell_type": "code",
   "execution_count": null,
   "id": "8ab4c5fe-cc18-4dda-bd63-cbc404179898",
   "metadata": {},
   "outputs": [],
   "source": [
    "rotate_image(cv.resize(A[0],size), rotationAngle, not_print = False)"
   ]
  },
  {
   "cell_type": "code",
   "execution_count": 66,
   "id": "163bf0c7-6a4e-4634-afe4-b6151c9bfdc5",
   "metadata": {},
   "outputs": [],
   "source": [
    "%config IPCompleter.use_jedi=False"
   ]
  },
  {
   "cell_type": "code",
   "execution_count": 34,
   "id": "97e8e7e2-9466-4ee9-bbfb-56196d341fb3",
   "metadata": {},
   "outputs": [
    {
     "data": {
      "text/plain": [
       "'\\n<annotation verified=\"yes\">\\n\\t<folder>data</folder>\\n\\t<filename>0a1dcafd3e7dc14d.jpg</filename>\\n\\t<path>/home/javi/fiftyone/open-images-v6/train/data/0a1dcafd3e7dc14d.jpg</path>\\n\\t<source>\\n\\t\\t<database>Unknown</database>\\n\\t</source>\\n\\t<size>\\n\\t\\t<width>1024</width>\\n\\t\\t<height>650</height>\\n\\t\\t<depth>3</depth>\\n\\t</size>\\n\\t<segmented>0</segmented>\\n\\t<object>\\n\\t\\t<name>Rodent</name>\\n\\t\\t<pose>Unspecified</pose>\\n\\t\\t<truncated>1</truncated>\\n\\t\\t<difficult>0</difficult>\\n\\t\\t<bndbox>\\n\\t\\t\\t<xmin>315</xmin>\\n\\t\\t\\t<ymin>224</ymin>\\n\\t\\t\\t<xmax>700</xmax>\\n\\t\\t\\t<ymax>650</ymax>\\n\\t\\t</bndbox>\\n\\t</object>\\n\\t<object>\\n\\t\\t<name>Rodent</name>\\n\\t\\t<pose>Unspecified</pose>\\n\\t\\t<truncated>0</truncated>\\n\\t\\t<difficult>0</difficult>\\n\\t\\t<bndbox>\\n\\t\\t\\t<xmin>420</xmin>\\n\\t\\t\\t<ymin>26</ymin>\\n\\t\\t\\t<xmax>675</xmax>\\n\\t\\t\\t<ymax>279</ymax>\\n\\t\\t</bndbox>\\n\\t</object>\\n</annotation>\\n'"
      ]
     },
     "execution_count": 34,
     "metadata": {},
     "output_type": "execute_result"
    }
   ],
   "source": [
    "file_test = os.path.normpath('/home/javi/fiftyone/open-images-v6/train/data/0a1dcafd3e7dc14d.xml')\n",
    "'''\n",
    "<annotation verified=\"yes\">\n",
    "\t<folder>data</folder>\n",
    "\t<filename>0a1dcafd3e7dc14d.jpg</filename>\n",
    "\t<path>/home/javi/fiftyone/open-images-v6/train/data/0a1dcafd3e7dc14d.jpg</path>\n",
    "\t<source>\n",
    "\t\t<database>Unknown</database>\n",
    "\t</source>\n",
    "\t<size>\n",
    "\t\t<width>1024</width>\n",
    "\t\t<height>650</height>\n",
    "\t\t<depth>3</depth>\n",
    "\t</size>\n",
    "\t<segmented>0</segmented>\n",
    "\t<object>\n",
    "\t\t<name>Rodent</name>\n",
    "\t\t<pose>Unspecified</pose>\n",
    "\t\t<truncated>1</truncated>\n",
    "\t\t<difficult>0</difficult>\n",
    "\t\t<bndbox>\n",
    "\t\t\t<xmin>315</xmin>\n",
    "\t\t\t<ymin>224</ymin>\n",
    "\t\t\t<xmax>700</xmax>\n",
    "\t\t\t<ymax>650</ymax>\n",
    "\t\t</bndbox>\n",
    "\t</object>\n",
    "\t<object>\n",
    "\t\t<name>Rodent</name>\n",
    "\t\t<pose>Unspecified</pose>\n",
    "\t\t<truncated>0</truncated>\n",
    "\t\t<difficult>0</difficult>\n",
    "\t\t<bndbox>\n",
    "\t\t\t<xmin>420</xmin>\n",
    "\t\t\t<ymin>26</ymin>\n",
    "\t\t\t<xmax>675</xmax>\n",
    "\t\t\t<ymax>279</ymax>\n",
    "\t\t</bndbox>\n",
    "\t</object>\n",
    "</annotation>\n",
    "'''"
   ]
  },
  {
   "cell_type": "code",
   "execution_count": 40,
   "id": "48566a93-3f26-4bc3-9cdf-7efa402d2732",
   "metadata": {},
   "outputs": [],
   "source": [
    "tree = ET.parse(file_test)\n",
    "root = tree.getroot()"
   ]
  },
  {
   "cell_type": "code",
   "execution_count": 69,
   "id": "89d5787f-9d40-4c71-86dd-5fefad3dd453",
   "metadata": {},
   "outputs": [
    {
     "name": "stdout",
     "output_type": "stream",
     "text": [
      "{'verified': 'yes'}\n",
      "folder data\n",
      "filename 0a1dcafd3e7dc14d.jpg\n",
      "path /home/javi/fiftyone/open-images-v6/train/data/0a1dcafd3e7dc14d.jpg\n",
      "source \n",
      "\t\t\n",
      "size \n",
      "\t\t\n",
      "segmented 0\n",
      "object \n",
      "\t\t\n",
      "object \n",
      "\t\t\n"
     ]
    }
   ],
   "source": [
    "print(root.attrib)\n",
    "for child in  root:\n",
    "    print(child.tag,child.text)"
   ]
  },
  {
   "cell_type": "code",
   "execution_count": 142,
   "id": "4d7b34f5-969a-4a9d-8f75-94f252cf9381",
   "metadata": {},
   "outputs": [
    {
     "name": "stdout",
     "output_type": "stream",
     "text": [
      "annotations {'verified': 'no'}\n",
      "folder MNIST_dataset/train\n",
      "file name of the file\n",
      "path MNIST_dataset/train/name\n",
      "source dataset_by_Javi\n",
      "size size of the image\n",
      "segmented 0\n",
      "<annotations verified=\"no\"><folder>MNIST_dataset/train</folder><file>name of the file</file><path>MNIST_dataset/train/name</path><source>dataset_by_Javi</source><size>size of the image<width>140</width><height>140</height><depth>1</depth></size><segmented>0</segmented></annotations>\n",
      "<?xml version=\"1.0\" ?>\n",
      "<annotations verified=\"no\">\n",
      "\t<folder>MNIST_dataset/train</folder>\n",
      "\t<file>name of the file</file>\n",
      "\t<path>MNIST_dataset/train/name</path>\n",
      "\t<source>dataset_by_Javi</source>\n",
      "\t<size>\n",
      "\t\tsize of the image\n",
      "\t\t<width>140</width>\n",
      "\t\t<height>140</height>\n",
      "\t\t<depth>1</depth>\n",
      "\t</size>\n",
      "\t<segmented>0</segmented>\n",
      "</annotations>\n",
      "\n"
     ]
    }
   ],
   "source": [
    "new_xml = dict_to_xml('annotations', basicXmlFileDict, attribute={'verified': 'no'})\n",
    "\n",
    "# new_xml = new_xml.find('size')\n",
    "\n",
    "print(new_xml.tag, new_xml.attrib)\n",
    "for child in new_xml:\n",
    "    print(child.tag, child.text)\n",
    "\n",
    "\n",
    "add_dict_to_xml(new_xml.find('size'), sizeDict)\n",
    "\n",
    "file = ET.tostring(new_xml)\n",
    "\n",
    "dom = xml.dom.minidom.parseString(file) # or xml.dom.minidom.parseString(xml_string)\n",
    "pretty_xml_as_string = dom.toprettyxml()\n",
    "\n",
    "print(file.decode())\n",
    "print(pretty_xml_as_string)"
   ]
  },
  {
   "cell_type": "code",
   "execution_count": 158,
   "id": "3110dc8d-9e59-4686-8ac5-dd59ea80b379",
   "metadata": {},
   "outputs": [
    {
     "data": {
      "text/plain": [
       "<Element 'object' at 0x7fafac0c8720>"
      ]
     },
     "execution_count": 158,
     "metadata": {},
     "output_type": "execute_result"
    }
   ],
   "source": [
    "ET.SubElement(new_xml, 'object')\n",
    "new_xml[-1]"
   ]
  },
  {
   "cell_type": "code",
   "execution_count": 37,
   "id": "b429ae56-9a36-4776-9728-127fe69de903",
   "metadata": {},
   "outputs": [
    {
     "name": "stdout",
     "output_type": "stream",
     "text": [
      "Collecting xml-python\n",
      "  Downloading xml_python-0.4.3-py3-none-any.whl (9.2 kB)\n",
      "Collecting attrs\n",
      "  Downloading attrs-22.2.0-py3-none-any.whl (60 kB)\n",
      "\u001b[2K     \u001b[38;2;114;156;31m━━━━━━━━━━━━━━━━━━━━━━━━━━━━━━━━━━━━━━━━\u001b[0m \u001b[32m60.0/60.0 kB\u001b[0m \u001b[31m4.7 MB/s\u001b[0m eta \u001b[36m0:00:00\u001b[0m\n",
      "\u001b[?25hInstalling collected packages: attrs, xml-python\n",
      "Successfully installed attrs-22.2.0 xml-python-0.4.3\n"
     ]
    }
   ],
   "source": [
    "!pip install xml-python"
   ]
  },
  {
   "cell_type": "code",
   "execution_count": 38,
   "id": "7c200b5c-395f-4691-93e5-3f908b23010f",
   "metadata": {},
   "outputs": [
    {
     "name": "stdout",
     "output_type": "stream",
     "text": [
      "Collecting uuid\n",
      "  Downloading uuid-1.30.tar.gz (5.8 kB)\n",
      "  Preparing metadata (setup.py) ... \u001b[?25ldone\n",
      "\u001b[?25hBuilding wheels for collected packages: uuid\n",
      "  Building wheel for uuid (setup.py) ... \u001b[?25ldone\n",
      "\u001b[?25h  Created wheel for uuid: filename=uuid-1.30-py3-none-any.whl size=6502 sha256=b6ad3d834f6377f3dd8aecd71cac3cce25fb07b6c6fdf3463dfc9415c96fe40f\n",
      "  Stored in directory: /home/javi/.cache/pip/wheels/05/d7/b4/4795d29c6decfffbf64c63e58b6c8b8bbfd4751488617dcd7a\n",
      "Successfully built uuid\n",
      "Installing collected packages: uuid\n",
      "Successfully installed uuid-1.30\n"
     ]
    }
   ],
   "source": [
    "!pip install uuid"
   ]
  },
  {
   "cell_type": "code",
   "execution_count": null,
   "id": "288970db-c3c0-4cdf-9ffc-18e43163b0b4",
   "metadata": {},
   "outputs": [],
   "source": [
    "                    if scaleFactor > pos[2]:\n",
    "                        # The points are True if old point inside square ->(x, y), (x+scale, y+scale)\n",
    "                        point1 = (pos[0] < x and pos[0] > x+scaleFactor) and (pos[1] < y and pos[1] > y+scaleFactor)\n",
    "                        point2 = (pos[0]+pos[2] < x and pos[0]+pos[2] > x+scaleFactor) and (pos[1] < y and pos[1] > y+scaleFactor)\n",
    "                        point3 = (pos[0]+pos[2] < x and pos[0]+pos[2] > x+scaleFactor) and (pos[1]+pos[2] < y and pos[1]+pos[2] > y+scaleFactor)\n",
    "                        point4 = (pos[0] < x and pos[0] > x+scaleFactor) and (pos[1]+pos[2] < y and pos[1]+pos[2] > y+scaleFactor)\n",
    "                    else:\n",
    "                        point1 = (x < pos[0] and x > pos[0]+pos[2]) and (y < pos[1] and y > pos[1]+pos[2])\n",
    "                        point2 = (x+scaleFactor < pos[0] and x+scaleFactor > pos[0]+pos[2]) and (y < pos[1] and y > pos[1]+pos[2])\n",
    "                        point3 = (x+scaleFactor < pos[0] and x+scaleFactor > pos[0]+pos[2]) and (y+scaleFactor < pos[1] and y+scaleFactor > pos[1]+pos[2])\n",
    "                        point4 = (x < pos[0] and x > pos[0]+pos[2]) and (y+scaleFactor < pos[1] and y+scaleFactor > pos[1]+pos[2])\n",
    "                    if point1 or point2 or point3 or point4:\n",
    "                        print('denegado')\n",
    "                        positionCompromised = True"
   ]
  }
 ],
 "metadata": {
  "kernelspec": {
   "display_name": "MNIST_OD",
   "language": "python",
   "name": "mnist_od"
  },
  "language_info": {
   "codemirror_mode": {
    "name": "ipython",
    "version": 3
   },
   "file_extension": ".py",
   "mimetype": "text/x-python",
   "name": "python",
   "nbconvert_exporter": "python",
   "pygments_lexer": "ipython3",
   "version": "3.9.12"
  }
 },
 "nbformat": 4,
 "nbformat_minor": 5
}
