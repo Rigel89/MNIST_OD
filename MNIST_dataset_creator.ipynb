{
 "cells": [
  {
   "cell_type": "markdown",
   "id": "0ad9fa0e-4282-4137-aacf-fc58582729c7",
   "metadata": {},
   "source": [
    "# <b>0. IMPORTING LIBRARIES"
   ]
  },
  {
   "cell_type": "code",
   "execution_count": 1,
   "id": "7b800da4-dd0b-48fa-8d3a-5308d4b9377f",
   "metadata": {
    "tags": []
   },
   "outputs": [],
   "source": [
    "import numpy as np\n",
    "import pandas as pd\n",
    "import os\n",
    "from matplotlib import pyplot as plt\n",
    "import tensorflow as tf\n",
    "import cv2 as cv"
   ]
  },
  {
   "cell_type": "markdown",
   "id": "90563490-b8d6-46c8-9012-09630cdcaa15",
   "metadata": {},
   "source": [
    "# <b> 1. Paths to directories and files"
   ]
  },
  {
   "cell_type": "markdown",
   "id": "89571021-5127-4327-a036-a5c0be2161d4",
   "metadata": {
    "tags": []
   },
   "source": [
    "### 1.1 Donwloading the MNIST dataset from TF and preparing the directories to save the new dataset"
   ]
  },
  {
   "cell_type": "code",
   "execution_count": 6,
   "id": "166014ea-6873-4ec1-854e-7dd7c0906cde",
   "metadata": {
    "tags": []
   },
   "outputs": [],
   "source": [
    "#donwload dataset mnist\n",
    "(x_train_ori, y_train_ori), (x_test_ori, y_test_ori) = tf.keras.datasets.mnist.load_data()\n",
    "assert x_train_ori.shape == (60000, 28, 28)\n",
    "assert x_test_ori.shape == (10000, 28, 28)\n",
    "assert y_train_ori.shape == (60000,)\n",
    "assert y_test_ori.shape == (10000,)"
   ]
  },
  {
   "cell_type": "code",
   "execution_count": 7,
   "id": "a9384ac8-bdea-47fb-ac20-1c658b90a1c6",
   "metadata": {
    "tags": []
   },
   "outputs": [],
   "source": [
    "#files path in a dictionary\n",
    "paths = dict()\n",
    "\n",
    "paths['main'] = os.path.dirname('D:\\Javi\\Python\\MNIST_OD')\n",
    "paths['dataset'] = os.path.join(paths['main'], 'MNIST_dataset')\n",
    "paths['train_data'] = os.path.join(paths['dataset'], 'train')\n",
    "paths['test_data'] = os.path.join(paths['dataset'], 'test')\n",
    "# paths['test_img'] = os.path.join(paths['test_data'], 'test')"
   ]
  },
  {
   "cell_type": "markdown",
   "id": "9f2380a8-00ed-4b45-bdfa-f4eb2f3a2f6f",
   "metadata": {
    "tags": []
   },
   "source": [
    "### 1.2 Preparing the dataset to generate new data"
   ]
  },
  {
   "cell_type": "code",
   "execution_count": 23,
   "id": "cc6c9f6c-b7c1-4b63-9df1-2879b8fce326",
   "metadata": {
    "tags": []
   },
   "outputs": [],
   "source": [
    "#convert the raw data to a dataset-object\n",
    "\n",
    "train = tf.data.Dataset.from_tensor_slices((x_train_ori,y_train_ori))\n",
    "test = tf.data.Dataset.from_tensor_slices((x_test_ori,y_test_ori))\n",
    "\n",
    "#genetating the input data format\n",
    "BATCH = 32\n",
    "FETCH = 2\n",
    "SHUFFLE = 600\n",
    "\n",
    "\n",
    "# train = train.batch(BATCH).shuffle(SHUFFLE)#.prefetch(FETCH)\n",
    "# test = test.batch(BATCH)#.prefetch(FETCH)"
   ]
  },
  {
   "cell_type": "markdown",
   "id": "43626707-d480-4fbb-ad71-7c56248b977e",
   "metadata": {
    "tags": []
   },
   "source": [
    "# 2. Functions to preproccess images in to the new dataset"
   ]
  },
  {
   "cell_type": "code",
   "execution_count": 3,
   "id": "e06eb081-b4c4-4918-8c00-54b3b7f04352",
   "metadata": {},
   "outputs": [],
   "source": [
    "#functions to rotate images\n",
    "\n",
    "def rotate_image(image, angle, not_print = True):\n",
    "    '''\n",
    "    This function rotate the image and plot it\n",
    "    Imput params:\n",
    "        image = array like,\n",
    "        angle = counterclockwise rotate angle (degrees),\n",
    "        not_print = if 'True' do not plot an image\n",
    "    Return:\n",
    "        image = image rotated [array like]\n",
    "    '''\n",
    "    image_center = tuple(np.array(image.shape[1::-1]) / 2)\n",
    "    rot_mat = cv.getRotationMatrix2D(image_center, angle, 1.0)\n",
    "    result = cv.warpAffine(image, rot_mat, image.shape[1::-1], flags=cv.INTER_LINEAR)\n",
    "    if not not_print:\n",
    "        plt.imshow(result,cmap='gray')\n",
    "        plt.show()\n",
    "    return result\n",
    "\n"
   ]
  },
  {
   "cell_type": "code",
   "execution_count": 30,
   "id": "864eb498-92f4-4694-b97e-0e21574b4597",
   "metadata": {},
   "outputs": [
    {
     "data": {
      "text/plain": [
       "<TakeDataset element_spec=(TensorSpec(shape=(28, 28), dtype=tf.uint8, name=None), TensorSpec(shape=(), dtype=tf.uint8, name=None))>"
      ]
     },
     "execution_count": 30,
     "metadata": {},
     "output_type": "execute_result"
    }
   ],
   "source": [
    "train.take(1)"
   ]
  },
  {
   "cell_type": "code",
   "execution_count": null,
   "id": "2eaf196a-259b-40bb-90a9-5f7dcfc0d0b6",
   "metadata": {},
   "outputs": [],
   "source": []
  }
 ],
 "metadata": {
  "kernelspec": {
   "display_name": "MNIST_OD",
   "language": "python",
   "name": "mnist_od"
  },
  "language_info": {
   "codemirror_mode": {
    "name": "ipython",
    "version": 3
   },
   "file_extension": ".py",
   "mimetype": "text/x-python",
   "name": "python",
   "nbconvert_exporter": "python",
   "pygments_lexer": "ipython3",
   "version": "3.9.7"
  }
 },
 "nbformat": 4,
 "nbformat_minor": 5
}
