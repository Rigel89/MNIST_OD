{
 "cells": [
  {
   "cell_type": "markdown",
   "id": "0ad9fa0e-4282-4137-aacf-fc58582729c7",
   "metadata": {},
   "source": [
    "# <b>0. IMPORTING LIBRARIES"
   ]
  },
  {
   "cell_type": "code",
   "execution_count": 22,
   "id": "7b800da4-dd0b-48fa-8d3a-5308d4b9377f",
   "metadata": {
    "tags": []
   },
   "outputs": [],
   "source": [
    "import numpy as np\n",
    "import pandas as pd\n",
    "import os\n",
    "from matplotlib import pyplot as plt\n",
    "import tensorflow as tf\n",
    "import cv2 as cv\n",
    "import random\n",
    "from tqdm import tqdm"
   ]
  },
  {
   "cell_type": "markdown",
   "id": "90563490-b8d6-46c8-9012-09630cdcaa15",
   "metadata": {},
   "source": [
    "# <b> 1. Paths to directories and files"
   ]
  },
  {
   "cell_type": "markdown",
   "id": "89571021-5127-4327-a036-a5c0be2161d4",
   "metadata": {
    "tags": []
   },
   "source": [
    "### 1.1 Donwloading the MNIST dataset from TF and preparing the directories to save the new dataset"
   ]
  },
  {
   "cell_type": "code",
   "execution_count": 2,
   "id": "166014ea-6873-4ec1-854e-7dd7c0906cde",
   "metadata": {
    "tags": []
   },
   "outputs": [],
   "source": [
    "#donwload dataset mnist\n",
    "(x_train_ori, y_train_ori), (x_test_ori, y_test_ori) = tf.keras.datasets.mnist.load_data()\n",
    "assert x_train_ori.shape == (60000, 28, 28)\n",
    "assert x_test_ori.shape == (10000, 28, 28)\n",
    "assert y_train_ori.shape == (60000,)\n",
    "assert y_test_ori.shape == (10000,)"
   ]
  },
  {
   "cell_type": "code",
   "execution_count": 3,
   "id": "a9384ac8-bdea-47fb-ac20-1c658b90a1c6",
   "metadata": {
    "tags": []
   },
   "outputs": [],
   "source": [
    "#files path in a dictionary\n",
    "paths = dict()\n",
    "\n",
    "paths['main'] = os.path.dirname('D:\\Javi\\Python\\MNIST_OD')\n",
    "paths['dataset'] = os.path.join(paths['main'], 'MNIST_dataset')\n",
    "paths['train_data'] = os.path.join(paths['dataset'], 'train')\n",
    "paths['test_data'] = os.path.join(paths['dataset'], 'test')\n",
    "# paths['test_img'] = os.path.join(paths['test_data'], 'test')"
   ]
  },
  {
   "cell_type": "markdown",
   "id": "9f2380a8-00ed-4b45-bdfa-f4eb2f3a2f6f",
   "metadata": {
    "tags": []
   },
   "source": [
    "### 1.2 Preparing the dataset to generate new data"
   ]
  },
  {
   "cell_type": "code",
   "execution_count": 4,
   "id": "cc6c9f6c-b7c1-4b63-9df1-2879b8fce326",
   "metadata": {
    "tags": []
   },
   "outputs": [
    {
     "name": "stderr",
     "output_type": "stream",
     "text": [
      "2023-03-07 07:14:01.683265: I tensorflow/core/platform/cpu_feature_guard.cc:151] This TensorFlow binary is optimized with oneAPI Deep Neural Network Library (oneDNN) to use the following CPU instructions in performance-critical operations:  AVX2 FMA\n",
      "To enable them in other operations, rebuild TensorFlow with the appropriate compiler flags.\n"
     ]
    }
   ],
   "source": [
    "#convert the raw data to a dataset-object\n",
    "\n",
    "train = tf.data.Dataset.from_tensor_slices((x_train_ori,y_train_ori))\n",
    "test = tf.data.Dataset.from_tensor_slices((x_test_ori,y_test_ori))\n",
    "\n",
    "#genetating the input data format\n",
    "BATCH = 5\n",
    "FETCH = 6\n",
    "SHUFFLE = 600\n",
    "\n",
    "\n",
    "train = train.batch(BATCH).shuffle(SHUFFLE).prefetch(FETCH)\n",
    "test = test.batch(BATCH).prefetch(FETCH)"
   ]
  },
  {
   "cell_type": "markdown",
   "id": "43626707-d480-4fbb-ad71-7c56248b977e",
   "metadata": {
    "tags": []
   },
   "source": [
    "# 2. Functions to preproccess images in to the new dataset"
   ]
  },
  {
   "cell_type": "code",
   "execution_count": 5,
   "id": "e06eb081-b4c4-4918-8c00-54b3b7f04352",
   "metadata": {},
   "outputs": [],
   "source": [
    "# function to rotate images\n",
    "\n",
    "def rotate_image(image, angle, not_print = True):\n",
    "    '''\n",
    "    This function rotate the image and plot it\n",
    "    Imput params:\n",
    "        image = array like,\n",
    "        angle = counterclockwise rotate angle (degrees),\n",
    "        not_print = if 'True' do not plot an image\n",
    "    Return:\n",
    "        image = image rotated [array like]\n",
    "    '''\n",
    "    image_center = tuple(np.array(image.shape[1::-1]) / 2)\n",
    "    rot_mat = cv.getRotationMatrix2D(image_center, angle, 1.0)\n",
    "    result = cv.warpAffine(image, rot_mat, image.shape[1::-1], flags=cv.INTER_LINEAR)\n",
    "    if not not_print:\n",
    "        plt.imshow(result, cmap='gray')\n",
    "        plt.show()\n",
    "    return result"
   ]
  },
  {
   "cell_type": "code",
   "execution_count": 121,
   "id": "2eaf196a-259b-40bb-90a9-5f7dcfc0d0b6",
   "metadata": {},
   "outputs": [],
   "source": [
    "# function to create a dataset image\n",
    "\n",
    "def image_generator(tf_dataset, number_of_images):\n",
    "    for numb in tqdm(range(number_of_images)):\n",
    "        images, labels = tf_dataset.as_numpy_iterator().next()\n",
    "        numberOfImages = random.randint(1, 5)\n",
    "        img = np.zeros((140, 140), dtype=np.uint8)\n",
    "        indexOfImages = random.sample([1, 2, 3, 4, 5], numberOfImages)\n",
    "        positionList = list()\n",
    "        for noi in range(numberOfImages):\n",
    "            rotationAngle = random.randint(-90, 90)\n",
    "            scaleFactor = round((random.random()+0.5)*28)\n",
    "            print(scaleFactor)\n",
    "            size = (scaleFactor, scaleFactor)\n",
    "            stopper = 0\n",
    "            while stopper <= 5:\n",
    "                x = random.randint(0, 140-scaleFactor)\n",
    "                y = random.randint(0, 140-scaleFactor)\n",
    "                print(x,y)\n",
    "                positionCompromised = False\n",
    "                for pos in positionList:\n",
    "                    print('Scales',pos[2],scaleFactor)\n",
    "                    print(x, y, x+scaleFactor, y+scaleFactor)\n",
    "                    print(pos[0],pos[1],pos[0]+pos[2],pos[1]+pos[2])\n",
    "                    if scaleFactor > pos[2]:\n",
    "                        point1 = (pos[0] < x and pos[0] > x+scaleFactor) and (pos[1] < y and pos[1] > y+scaleFactor)\n",
    "                        point2 = (pos[0]+pos[2] < x and pos[0]+pos[2] > x+scaleFactor) and (pos[1] < y and pos[1] > y+scaleFactor)\n",
    "                        point3 = (pos[0]+pos[2] < x and pos[0]+pos[2] > x+scaleFactor) and (pos[1]+pos[2] < y and pos[1]+pos[2] > y+scaleFactor)\n",
    "                        point4 = (pos[0] < x and pos[0] > x+scaleFactor) and (pos[1]+pos[2] < y and pos[1]+pos[2] > y+scaleFactor)\n",
    "                    else:\n",
    "                        point1 = (x < pos[0] and x > pos[0]+pos[2]) and (y < pos[1] and y > pos[1]+pos[2])\n",
    "                        point2 = (x+scaleFactor < pos[0] and x+scaleFactor > pos[0]+pos[2]) and (y < pos[1] and y > pos[1]+pos[2])\n",
    "                        point3 = (x+scaleFactor < pos[0] and x+scaleFactor > pos[0]+pos[2]) and (y+scaleFactor < pos[1] and y+scaleFactor > pos[1]+pos[2])\n",
    "                        point4 = (x < pos[0] and x > pos[0]+pos[2]) and (y+scaleFactor < pos[1] and y+scaleFactor > pos[1]+pos[2])\n",
    "                    if point1 or point2 or point3 or point4:\n",
    "                        print('denegado')\n",
    "                        positionCompromised = True\n",
    "                    print(scaleFactor > pos[2],point1,point2,point3,point4)\n",
    "                    # if not y_out:\n",
    "                    #     positionCompromised = True\n",
    "                if len(positionList) == 0:\n",
    "                    positionList.append([x, y, scaleFactor])\n",
    "                    img[x:x+scaleFactor, y:y+scaleFactor] = rotate_image(cv.resize(images[noi], size), \n",
    "                                                                         rotationAngle, not_print = False)\n",
    "                    stopper = 10\n",
    "                elif not positionCompromised:\n",
    "                    print('Premio')\n",
    "                    positionList.append([x, y, scaleFactor])\n",
    "                    img[x:x+scaleFactor, y:y+scaleFactor] = rotate_image(cv.resize(images[noi], size), \n",
    "                                                                         rotationAngle, not_print = False)\n",
    "                    stopper = 10\n",
    "                stopper += 1\n",
    "        plt.imshow(img)\n",
    "        plt.show()"
   ]
  },
  {
   "cell_type": "code",
   "execution_count": 120,
   "id": "864eb498-92f4-4694-b97e-0e21574b4597",
   "metadata": {},
   "outputs": [
    {
     "name": "stderr",
     "output_type": "stream",
     "text": [
      "  0%|                                                     | 0/1 [00:00<?, ?it/s]"
     ]
    },
    {
     "name": "stdout",
     "output_type": "stream",
     "text": [
      "27\n",
      "30 42\n"
     ]
    },
    {
     "data": {
      "image/png": "[encoded data removed]",
      "text/plain": [
       "<Figure size 640x480 with 1 Axes>"
      ]
     },
     "metadata": {},
     "output_type": "display_data"
    },
    {
     "data": {
      "image/png": "[encoded data removed]",
      "text/plain": [
       "<Figure size 640x480 with 1 Axes>"
      ]
     },
     "metadata": {},
     "output_type": "display_data"
    },
    {
     "name": "stdout",
     "output_type": "stream",
     "text": [
      "39\n",
      "55 10\n",
      "Scales 27 39\n",
      "55 10 94 49\n",
      "30 42 57 69\n",
      "True False False False False\n",
      "Premio\n"
     ]
    },
    {
     "data": {
      "image/png": "[encoded data removed]",
      "text/plain": [
       "<Figure size 640x480 with 1 Axes>"
      ]
     },
     "metadata": {},
     "output_type": "display_data"
    },
    {
     "data": {
      "image/png": "[encoded data removed]",
      "text/plain": [
       "<Figure size 640x480 with 1 Axes>"
      ]
     },
     "metadata": {},
     "output_type": "display_data"
    },
    {
     "name": "stdout",
     "output_type": "stream",
     "text": [
      "22\n",
      "25 43\n",
      "Scales 27 22\n",
      "25 43 47 65\n",
      "30 42 57 69\n",
      "False False False False False\n",
      "Scales 39 22\n",
      "25 43 47 65\n",
      "55 10 94 49\n",
      "False False False False False\n",
      "Premio\n"
     ]
    },
    {
     "data": {
      "image/png": "[encoded data removed]",
      "text/plain": [
       "<Figure size 640x480 with 1 Axes>"
      ]
     },
     "metadata": {},
     "output_type": "display_data"
    },
    {
     "data": {
      "image/png": "[encoded data removed]",
      "text/plain": [
       "<Figure size 640x480 with 1 Axes>"
      ]
     },
     "metadata": {},
     "output_type": "display_data"
    },
    {
     "data": {
      "image/png": "[encoded data removed]",
      "text/plain": [
       "<Figure size 640x480 with 1 Axes>"
      ]
     },
     "metadata": {},
     "output_type": "display_data"
    },
    {
     "name": "stderr",
     "output_type": "stream",
     "text": [
      "100%|█████████████████████████████████████████████| 1/1 [00:01<00:00,  1.35s/it]\n"
     ]
    }
   ],
   "source": [
    "#Creatting a seed, in order to get replicable solution\n",
    "# random.seed(13)\n",
    "\n",
    "image_generator(train, 1)\n"
   ]
  },
  {
   "cell_type": "code",
   "execution_count": 32,
   "id": "0e240fe2-7d21-47c1-bbaf-01484b33cc49",
   "metadata": {},
   "outputs": [],
   "source": [
    "A, B = train.as_numpy_iterator().next()"
   ]
  },
  {
   "cell_type": "code",
   "execution_count": 33,
   "id": "79a7abd5-560c-4606-96b2-4a9b30936ea3",
   "metadata": {},
   "outputs": [
    {
     "data": {
      "text/plain": [
       "numpy.ndarray"
      ]
     },
     "execution_count": 33,
     "metadata": {},
     "output_type": "execute_result"
    }
   ],
   "source": [
    "type(B)"
   ]
  },
  {
   "cell_type": "code",
   "execution_count": 19,
   "id": "67dd6865-869b-485a-9cc5-dfe52977bcb5",
   "metadata": {},
   "outputs": [],
   "source": [
    "numberOfImages = random.randint(1,5)\n",
    "indexOfImages = random.sample([1,2,3,4,5],numberOfImages)\n",
    "rotationAngle = random.randint(-90,90)\n",
    "scaleFactor = random.random()+0.5\n",
    "size = (round(scaleFactor*28),round(scaleFactor*28))\n",
    "img = tf.zeros((140,140),dtype=np.uint8)"
   ]
  },
  {
   "cell_type": "code",
   "execution_count": 20,
   "id": "8ab4c5fe-cc18-4dda-bd63-cbc404179898",
   "metadata": {},
   "outputs": [
    {
     "data": {
      "image/png": "[encoded data removed]",
      "text/plain": [
       "<Figure size 640x480 with 1 Axes>"
      ]
     },
     "metadata": {},
     "output_type": "display_data"
    },
    {
     "data": {
      "text/plain": [
       "array([[  0,   0,   0,   0,   0,   0,   0,   0,   0,   0,   0,   0,   0,\n",
       "          0,   0],\n",
       "       [  0,   0,   0,   0,   0,   0,   0,   0,   0,   0,   0,   0,   0,\n",
       "          0,   0],\n",
       "       [  0,   0,   0,   0,   0,   0,   2,   5,   3,   0,   0,   0,   0,\n",
       "          0,   0],\n",
       "       [  0,   0,   0,   1,   2,  65,  99, 160,   6,   0,   0,   0,   0,\n",
       "          0,   0],\n",
       "       [  0,   0,   4,  12, 133, 192, 250, 136,  20,   0,   0,   0,   0,\n",
       "          0,   0],\n",
       "       [  0,   2,  22, 147, 207, 138, 216, 102,  17,  51,  42,  24,   0,\n",
       "          0,   0],\n",
       "       [  0,   3, 125, 199,  45, 172, 217, 108, 175, 180, 201, 113,  13,\n",
       "          0,   0],\n",
       "       [  0,  33, 168,  41,  80, 220, 242, 202, 146, 119, 163, 193,  11,\n",
       "          0,   0],\n",
       "       [  0,   1,  12,   8,  45, 146, 102,  71,  10,   7, 126, 204,  60,\n",
       "          1,   0],\n",
       "       [  0,   0,   0,   0,   0,  16,  10,   0,   0,   3, 105, 235,  45,\n",
       "          0,   0],\n",
       "       [  0,   0,   0,   0,   0,   0,   0,   0,   0,  12, 128, 174,  28,\n",
       "          0,   0],\n",
       "       [  0,   0,   0,   0,   0,   0,   0,   0,   0,   2, 189, 133,   2,\n",
       "          0,   0],\n",
       "       [  0,   0,   0,   0,   0,   0,   0,   8,  12, 169, 157,  32,   3,\n",
       "          0,   0],\n",
       "       [  0,   0,   0,   0,   0,   0,   0,   6, 174, 166,  54,   7,   0,\n",
       "          0,   0],\n",
       "       [  0,   0,   0,   0,   0,   0,   0,  66, 147,  47,  12,   0,   0,\n",
       "          0,   0]], dtype=uint8)"
      ]
     },
     "execution_count": 20,
     "metadata": {},
     "output_type": "execute_result"
    }
   ],
   "source": [
    "rotate_image(cv.resize(A[0],size), rotationAngle, not_print = False)"
   ]
  },
  {
   "cell_type": "code",
   "execution_count": 10,
   "id": "163bf0c7-6a4e-4634-afe4-b6151c9bfdc5",
   "metadata": {},
   "outputs": [],
   "source": [
    "%config IPCompleter.use_jedi=False"
   ]
  },
  {
   "cell_type": "code",
   "execution_count": 21,
   "id": "97e8e7e2-9466-4ee9-bbfb-56196d341fb3",
   "metadata": {},
   "outputs": [
    {
     "name": "stdout",
     "output_type": "stream",
     "text": [
      "Collecting tqdm\n",
      "  Downloading tqdm-4.65.0-py3-none-any.whl (77 kB)\n",
      "\u001b[2K     \u001b[38;2;114;156;31m━━━━━━━━━━━━━━━━━━━━━━━━━━━━━━━━━━━━━━━━\u001b[0m \u001b[32m77.1/77.1 kB\u001b[0m \u001b[31m7.7 MB/s\u001b[0m eta \u001b[36m0:00:00\u001b[0m\n",
      "\u001b[?25hInstalling collected packages: tqdm\n",
      "Successfully installed tqdm-4.65.0\n"
     ]
    }
   ],
   "source": []
  },
  {
   "cell_type": "code",
   "execution_count": 28,
   "id": "48566a93-3f26-4bc3-9cdf-7efa402d2732",
   "metadata": {},
   "outputs": [],
   "source": [
    "jaja = list([1,2,3])"
   ]
  },
  {
   "cell_type": "code",
   "execution_count": 29,
   "id": "b429ae56-9a36-4776-9728-127fe69de903",
   "metadata": {},
   "outputs": [
    {
     "name": "stdout",
     "output_type": "stream",
     "text": [
      "joh\n",
      "joh\n",
      "joh\n"
     ]
    }
   ],
   "source": [
    "for ja in jaja:\n",
    "    print('joh')"
   ]
  },
  {
   "cell_type": "code",
   "execution_count": 103,
   "id": "7c200b5c-395f-4691-93e5-3f908b23010f",
   "metadata": {},
   "outputs": [
    {
     "data": {
      "text/plain": [
       "True"
      ]
     },
     "execution_count": 103,
     "metadata": {},
     "output_type": "execute_result"
    }
   ],
   "source": [
    "True or True or True or True"
   ]
  },
  {
   "cell_type": "code",
   "execution_count": 87,
   "id": "89d5787f-9d40-4c71-86dd-5fefad3dd453",
   "metadata": {},
   "outputs": [
    {
     "data": {
      "text/plain": [
       "True"
      ]
     },
     "execution_count": 87,
     "metadata": {},
     "output_type": "execute_result"
    }
   ],
   "source": [
    "True or False"
   ]
  },
  {
   "cell_type": "code",
   "execution_count": 116,
   "id": "4d7b34f5-969a-4a9d-8f75-94f252cf9381",
   "metadata": {},
   "outputs": [
    {
     "data": {
      "text/plain": [
       "True"
      ]
     },
     "execution_count": 116,
     "metadata": {},
     "output_type": "execute_result"
    }
   ],
   "source": [
    "(True or True or False or True)"
   ]
  },
  {
   "cell_type": "code",
   "execution_count": null,
   "id": "288970db-c3c0-4cdf-9ffc-18e43163b0b4",
   "metadata": {},
   "outputs": [],
   "source": []
  }
 ],
 "metadata": {
  "kernelspec": {
   "display_name": "MNIST_OD",
   "language": "python",
   "name": "mnist_od"
  },
  "language_info": {
   "codemirror_mode": {
    "name": "ipython",
    "version": 3
   },
   "file_extension": ".py",
   "mimetype": "text/x-python",
   "name": "python",
   "nbconvert_exporter": "python",
   "pygments_lexer": "ipython3",
   "version": "3.9.12"
  }
 },
 "nbformat": 4,
 "nbformat_minor": 5
}
